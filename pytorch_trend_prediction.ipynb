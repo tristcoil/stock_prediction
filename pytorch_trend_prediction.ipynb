{
 "cells": [
  {
   "cell_type": "code",
   "execution_count": 1,
   "metadata": {},
   "outputs": [],
   "source": [
    "# main source\n",
    "# https://www.kaggle.com/tristcoil/iris-classification-pytorch/edit\n",
    "\n",
    "# secondary sources\n",
    "# https://medium.com/jovianml/torch-logistic-regression-on-iris-dataset-d966b23339da\n",
    "# https://www.kaggle.com/aaditkapoor1201/iris-classification-pytorch\n"
   ]
  },
  {
   "cell_type": "code",
   "execution_count": 2,
   "metadata": {},
   "outputs": [],
   "source": [
    "### GET STOCK DATA ###"
   ]
  },
  {
   "cell_type": "code",
   "execution_count": 3,
   "metadata": {},
   "outputs": [],
   "source": [
    "import talib as ta\n",
    "import joblib"
   ]
  },
  {
   "cell_type": "code",
   "execution_count": 4,
   "metadata": {},
   "outputs": [],
   "source": [
    "import pandas as pd\n",
    "\n",
    "#suppress 'SettingWithCopy' warning\n",
    "pd.set_option('mode.chained_assignment', None)"
   ]
  },
  {
   "cell_type": "code",
   "execution_count": 5,
   "metadata": {},
   "outputs": [],
   "source": [
    "#!pip install pandas_datareader\n",
    "#!pip3 install seaborn\n",
    "import seaborn as sns"
   ]
  },
  {
   "cell_type": "code",
   "execution_count": 6,
   "metadata": {},
   "outputs": [
    {
     "data": {
      "text/html": [
       "<style>.container { width:100% !important; }</style>"
      ],
      "text/plain": [
       "<IPython.core.display.HTML object>"
      ]
     },
     "metadata": {},
     "output_type": "display_data"
    }
   ],
   "source": [
    "from IPython.core.display import display, HTML\n",
    "display(HTML(\"<style>.container { width:100% !important; }</style>\"))\n",
    "\n",
    "# ___library_import_statements___\n",
    "import pandas as pd\n",
    "\n",
    "# for pandas_datareader, otherwise it might have issues, sometimes there is some version mismatch\n",
    "pd.core.common.is_list_like = pd.api.types.is_list_like\n",
    "\n",
    "# make pandas to print dataframes nicely\n",
    "pd.set_option('expand_frame_repr', False)  \n",
    "\n",
    "import pandas_datareader.data as web\n",
    "import numpy as np\n",
    "import matplotlib.pyplot as plt\n",
    "import datetime\n",
    "import time\n",
    "\n",
    "#newest yahoo API \n",
    "import yfinance as yahoo_finance\n",
    "\n",
    "#optional \n",
    "#yahoo_finance.pdr_override()\n",
    "\n",
    "%matplotlib inline"
   ]
  },
  {
   "cell_type": "code",
   "execution_count": 7,
   "metadata": {},
   "outputs": [],
   "source": [
    "import talib as ta\n",
    "import numpy as np\n",
    "\n",
    "import matplotlib.pyplot as plt\n",
    "\n",
    "# was giving me some warnings\n",
    "from pandas.plotting import register_matplotlib_converters\n",
    "register_matplotlib_converters()"
   ]
  },
  {
   "cell_type": "code",
   "execution_count": 8,
   "metadata": {},
   "outputs": [],
   "source": [
    "# ___variables___\n",
    "#ticker = 'AAPL'\n",
    "#ticker = 'TSLA'\n",
    "#ticker = 'FB'\n",
    "#ticker = 'MSFT'\n",
    "#ticker = 'NFLX'\n",
    "#ticker = 'GOOGL'\n",
    "ticker = 'BIDU'\n",
    "#ticker = 'AMZN'\n",
    "#ticker = 'IBM'\n",
    "\n",
    "start_time = datetime.datetime(1980, 1, 1)\n",
    "#end_time = datetime.datetime(2019, 1, 20)\n",
    "end_time = datetime.datetime.now().date().isoformat()         # today"
   ]
  },
  {
   "cell_type": "code",
   "execution_count": 9,
   "metadata": {},
   "outputs": [],
   "source": [
    "def get_data(ticker):\n",
    "    # yahoo gives only daily historical data\n",
    "    connected = False\n",
    "    while not connected:\n",
    "        try:\n",
    "            df = web.get_data_yahoo(ticker, start=start_time, end=end_time)\n",
    "            connected = True\n",
    "            print('connected to yahoo')\n",
    "        except Exception as e:\n",
    "            print(\"type error: \" + str(e))\n",
    "            time.sleep( 5 )\n",
    "            pass   \n",
    "\n",
    "    # use numerical integer index instead of date    \n",
    "    df = df.reset_index()\n",
    "    #print(df.head(5))\n",
    "    return df"
   ]
  },
  {
   "cell_type": "code",
   "execution_count": 10,
   "metadata": {},
   "outputs": [],
   "source": [
    "#df = get_data(ticker)"
   ]
  },
  {
   "cell_type": "code",
   "execution_count": 11,
   "metadata": {},
   "outputs": [],
   "source": [
    "def compute_technical_indicators(df):\n",
    "    df['EMA5'] = ta.EMA(df['Adj Close'].values, timeperiod=5)\n",
    "    df['EMA10'] = ta.EMA(df['Adj Close'].values, timeperiod=10)\n",
    "    df['EMA15'] = ta.EMA(df['Adj Close'].values, timeperiod=15)\n",
    "    df['EMA20'] = ta.EMA(df['Adj Close'].values, timeperiod=10)\n",
    "    df['EMA30'] = ta.EMA(df['Adj Close'].values, timeperiod=30)\n",
    "    df['EMA40'] = ta.EMA(df['Adj Close'].values, timeperiod=40)\n",
    "    df['EMA50'] = ta.EMA(df['Adj Close'].values, timeperiod=50)\n",
    "\n",
    "    df['EMA60'] = ta.EMA(df['Adj Close'].values, timeperiod=60)\n",
    "    df['EMA70'] = ta.EMA(df['Adj Close'].values, timeperiod=70)\n",
    "    df['EMA80'] = ta.EMA(df['Adj Close'].values, timeperiod=80)\n",
    "    df['EMA90'] = ta.EMA(df['Adj Close'].values, timeperiod=90)\n",
    "    \n",
    "    df['EMA100'] = ta.EMA(df['Adj Close'].values, timeperiod=100)\n",
    "    df['EMA150'] = ta.EMA(df['Adj Close'].values, timeperiod=150)\n",
    "    df['EMA200'] = ta.EMA(df['Adj Close'].values, timeperiod=200)\n",
    "\n",
    "    df['upperBB'], df['middleBB'], df['lowerBB'] = ta.BBANDS(df['Adj Close'].values, timeperiod=20, nbdevup=2, nbdevdn=2, matype=0)\n",
    "\n",
    "    df['SAR'] = ta.SAR(df['High'].values, df['Low'].values, acceleration=0.02, maximum=0.2)\n",
    "\n",
    "    # we will normalize RSI\n",
    "    df['RSI'] = ta.RSI(df['Adj Close'].values, timeperiod=14)\n",
    "\n",
    "    df['normRSI'] = ta.RSI(df['Adj Close'].values, timeperiod=14) / 100.0\n",
    "    \n",
    "    df.tail()\n",
    "\n",
    "    return df"
   ]
  },
  {
   "cell_type": "code",
   "execution_count": 12,
   "metadata": {},
   "outputs": [],
   "source": [
    "#df = compute_technical_indicators(df)"
   ]
  },
  {
   "cell_type": "code",
   "execution_count": 13,
   "metadata": {},
   "outputs": [],
   "source": [
    "def compute_features(df):\n",
    "    # computes features for forest decisions\n",
    "    df['aboveEMA5'] = np.where(df['Adj Close'] > df['EMA5'], 1, 0)\n",
    "    df['aboveEMA10'] = np.where(df['Adj Close'] > df['EMA10'], 1, 0)\n",
    "    df['aboveEMA15'] = np.where(df['Adj Close'] > df['EMA15'], 1, 0)\n",
    "    df['aboveEMA20'] = np.where(df['Adj Close'] > df['EMA20'], 1, 0)\n",
    "    df['aboveEMA30'] = np.where(df['Adj Close'] > df['EMA30'], 1, 0)\n",
    "    df['aboveEMA40'] = np.where(df['Adj Close'] > df['EMA40'], 1, 0)\n",
    "    \n",
    "    df['aboveEMA50'] = np.where(df['Adj Close'] > df['EMA50'], 1, 0)\n",
    "    df['aboveEMA60'] = np.where(df['Adj Close'] > df['EMA60'], 1, 0)\n",
    "    df['aboveEMA70'] = np.where(df['Adj Close'] > df['EMA70'], 1, 0)\n",
    "    df['aboveEMA80'] = np.where(df['Adj Close'] > df['EMA80'], 1, 0)\n",
    "    df['aboveEMA90'] = np.where(df['Adj Close'] > df['EMA90'], 1, 0)\n",
    "    \n",
    "    df['aboveEMA100'] = np.where(df['Adj Close'] > df['EMA100'], 1, 0)\n",
    "    df['aboveEMA150'] = np.where(df['Adj Close'] > df['EMA150'], 1, 0)\n",
    "    df['aboveEMA200'] = np.where(df['Adj Close'] > df['EMA200'], 1, 0)\n",
    "\n",
    "    df['aboveUpperBB'] = np.where(df['Adj Close'] > df['upperBB'], 1, 0)\n",
    "    df['belowLowerBB'] = np.where(df['Adj Close'] < df['lowerBB'], 1, 0)\n",
    "    \n",
    "    df['aboveSAR'] = np.where(df['Adj Close'] > df['SAR'], 1, 0)\n",
    "   \n",
    "    df['oversoldRSI'] = np.where(df['RSI'] < 30, 1, 0)\n",
    "    df['overboughtRSI'] = np.where(df['RSI'] > 70, 1, 0)\n",
    "\n",
    "\n",
    "    # very important - cleanup NaN values, otherwise prediction does not work\n",
    "    df=df.fillna(0).copy()\n",
    "    \n",
    "    df.tail()\n",
    "\n",
    "    return df"
   ]
  },
  {
   "cell_type": "code",
   "execution_count": 14,
   "metadata": {},
   "outputs": [],
   "source": [
    "#df = compute_features(df)"
   ]
  },
  {
   "cell_type": "code",
   "execution_count": 15,
   "metadata": {},
   "outputs": [],
   "source": [
    "def plot_train_data(df):\n",
    "    # plot price\n",
    "    plt.figure(figsize=(15,2.5))\n",
    "    plt.title('Stock data ' + str(ticker))\n",
    "    plt.plot(df['Date'], df['Adj Close'])\n",
    "    #plt.title('Price chart (Adj Close) ' + str(ticker))\n",
    "    plt.show()\n",
    "    return None"
   ]
  },
  {
   "cell_type": "code",
   "execution_count": 16,
   "metadata": {},
   "outputs": [],
   "source": [
    "def define_target_condition(df):\n",
    " \n",
    "    # price higher later - bad predictive results\n",
    "    #df['target_cls'] = np.where(df['Adj Close'].shift(-34) > df['Adj Close'], 1, 0)    \n",
    "    \n",
    "    # price above trend multiple days later\n",
    "    df['target_cls'] = np.where(df['Adj Close'].shift(-34) > df.EMA150.shift(-34), 1, 0)\n",
    "\n",
    "    # important, remove NaN values\n",
    "    df=df.fillna(0).copy()\n",
    "    \n",
    "    df.tail()\n",
    "    \n",
    "    return df"
   ]
  },
  {
   "cell_type": "code",
   "execution_count": 17,
   "metadata": {},
   "outputs": [],
   "source": [
    "#df = define_target_condition(df)"
   ]
  },
  {
   "cell_type": "code",
   "execution_count": 18,
   "metadata": {},
   "outputs": [],
   "source": [
    "#plot_train_data(df)"
   ]
  },
  {
   "cell_type": "code",
   "execution_count": null,
   "metadata": {},
   "outputs": [],
   "source": []
  },
  {
   "cell_type": "markdown",
   "metadata": {},
   "source": [
    "### Create one big training dataframe"
   ]
  },
  {
   "cell_type": "code",
   "execution_count": 19,
   "metadata": {},
   "outputs": [],
   "source": [
    "tickers = ['F', 'IBM', 'GE', 'AAPL', 'ADM',\n",
    "           'XOM', 'GM','MMM','KO','PEP','SO','GS']           \n",
    "#           'HAS','PEAK','HPE','HLT','HD','HON','HRL','HST','HPQ','HUM','ILMN', \n",
    "#           'INTC','ICE','INTU','ISRG','IVZ','IRM','JNJ','JPM','JNPR','K','KMB', \n",
    "#           'KIM', 'KMI','KSS','KHC', 'KR',  'LB', 'LEG', 'LIN', 'LMT','LOW',\n",
    "#           'MAR', 'MA','MCD','MDT', 'MRK', 'MET', 'MGM', 'MU','MSFT', 'MAA', \n",
    "#           'MNST', 'MCO','MS', 'MSI',\n",
    "#           'MMM', 'ABT','ACN','ATVI','ADBE','AMD','A','AKAM','ARE','GOOG','AMZN','AAL']\n"
   ]
  },
  {
   "cell_type": "code",
   "execution_count": 20,
   "metadata": {},
   "outputs": [
    {
     "name": "stdout",
     "output_type": "stream",
     "text": [
      "connected to yahoo\n",
      "connected to yahoo\n",
      "connected to yahoo\n",
      "connected to yahoo\n",
      "connected to yahoo\n",
      "connected to yahoo\n",
      "connected to yahoo\n",
      "connected to yahoo\n",
      "connected to yahoo\n",
      "connected to yahoo\n",
      "connected to yahoo\n",
      "connected to yahoo\n",
      "connected to yahoo\n"
     ]
    }
   ],
   "source": [
    "# parent dataframe to append to\n",
    "ticker = 'SPY'\n",
    "df = get_data(ticker)\n",
    "df = compute_technical_indicators(df)\n",
    "df = compute_features(df)\n",
    "df = define_target_condition(df)\n",
    "\n",
    "\n",
    "\n",
    "\n",
    "for ticker in tickers:\n",
    "    t_df = get_data(ticker)\n",
    "    t_df = compute_technical_indicators(t_df)\n",
    "    t_df = compute_features(t_df)\n",
    "    t_df = define_target_condition(t_df)\n",
    "    \n",
    "    df = df.append(t_df, ignore_index=True)\n",
    "    \n",
    "    "
   ]
  },
  {
   "cell_type": "code",
   "execution_count": null,
   "metadata": {},
   "outputs": [],
   "source": []
  },
  {
   "cell_type": "code",
   "execution_count": null,
   "metadata": {},
   "outputs": [],
   "source": []
  },
  {
   "cell_type": "code",
   "execution_count": null,
   "metadata": {},
   "outputs": [],
   "source": []
  },
  {
   "cell_type": "code",
   "execution_count": null,
   "metadata": {},
   "outputs": [],
   "source": []
  },
  {
   "cell_type": "code",
   "execution_count": null,
   "metadata": {},
   "outputs": [],
   "source": []
  },
  {
   "cell_type": "markdown",
   "metadata": {},
   "source": [
    "### Train-Test split and Training part"
   ]
  },
  {
   "cell_type": "code",
   "execution_count": 21,
   "metadata": {},
   "outputs": [],
   "source": [
    "predictors_list = ['aboveSAR','aboveUpperBB','belowLowerBB','normRSI','oversoldRSI','overboughtRSI',\n",
    "                   'aboveEMA5','aboveEMA10','aboveEMA15','aboveEMA20','aboveEMA30','aboveEMA40',\n",
    "                   'aboveEMA50','aboveEMA60','aboveEMA70','aboveEMA80','aboveEMA90','aboveEMA100']"
   ]
  },
  {
   "cell_type": "code",
   "execution_count": 22,
   "metadata": {},
   "outputs": [],
   "source": [
    "def splitting_and_training(df, predictors_list, test_size=0.3):\n",
    "    # __predictors__\n",
    "\n",
    "\n",
    "    # __features__\n",
    "    X = df[predictors_list].fillna(0).values\n",
    "    #X.tail()\n",
    "\n",
    "    # __targets__\n",
    "    y_cls = df.target_cls.fillna(0).values\n",
    "    #y_cls.tail(10)\n",
    "\n",
    "    # __train test split__\n",
    "    from sklearn.model_selection import train_test_split\n",
    "    y=y_cls\n",
    "    X_cls_train, X_cls_test, y_cls_train, y_cls_test = train_test_split(X, y, test_size=test_size, random_state=42, stratify=y)\n",
    "\n",
    "    print (X_cls_train.shape, y_cls_train.shape)\n",
    "    print (X_cls_test.shape, y_cls_test.shape)\n",
    "\n",
    "    return X_cls_train, X_cls_test, y_cls_train, y_cls_test"
   ]
  },
  {
   "cell_type": "code",
   "execution_count": null,
   "metadata": {},
   "outputs": [],
   "source": []
  },
  {
   "cell_type": "code",
   "execution_count": null,
   "metadata": {},
   "outputs": [],
   "source": []
  },
  {
   "cell_type": "code",
   "execution_count": null,
   "metadata": {},
   "outputs": [],
   "source": []
  },
  {
   "cell_type": "code",
   "execution_count": null,
   "metadata": {},
   "outputs": [],
   "source": []
  },
  {
   "cell_type": "code",
   "execution_count": null,
   "metadata": {},
   "outputs": [],
   "source": []
  },
  {
   "cell_type": "code",
   "execution_count": null,
   "metadata": {},
   "outputs": [],
   "source": []
  },
  {
   "cell_type": "code",
   "execution_count": null,
   "metadata": {},
   "outputs": [],
   "source": []
  },
  {
   "cell_type": "code",
   "execution_count": null,
   "metadata": {},
   "outputs": [],
   "source": []
  },
  {
   "cell_type": "code",
   "execution_count": null,
   "metadata": {},
   "outputs": [],
   "source": []
  },
  {
   "cell_type": "code",
   "execution_count": 23,
   "metadata": {},
   "outputs": [],
   "source": [
    "############ START OF MAIN SOURCE ###############"
   ]
  },
  {
   "cell_type": "code",
   "execution_count": 24,
   "metadata": {},
   "outputs": [
    {
     "name": "stderr",
     "output_type": "stream",
     "text": [
      "Using TensorFlow backend.\n",
      "/home/coil/anaconda3/envs/decision_trees/lib/python3.5/site-packages/tensorflow/python/framework/dtypes.py:523: FutureWarning: Passing (type, 1) or '1type' as a synonym of type is deprecated; in a future version of numpy, it will be understood as (type, (1,)) / '(1,)type'.\n",
      "  _np_qint8 = np.dtype([(\"qint8\", np.int8, 1)])\n",
      "/home/coil/anaconda3/envs/decision_trees/lib/python3.5/site-packages/tensorflow/python/framework/dtypes.py:524: FutureWarning: Passing (type, 1) or '1type' as a synonym of type is deprecated; in a future version of numpy, it will be understood as (type, (1,)) / '(1,)type'.\n",
      "  _np_quint8 = np.dtype([(\"quint8\", np.uint8, 1)])\n",
      "/home/coil/anaconda3/envs/decision_trees/lib/python3.5/site-packages/tensorflow/python/framework/dtypes.py:525: FutureWarning: Passing (type, 1) or '1type' as a synonym of type is deprecated; in a future version of numpy, it will be understood as (type, (1,)) / '(1,)type'.\n",
      "  _np_qint16 = np.dtype([(\"qint16\", np.int16, 1)])\n",
      "/home/coil/anaconda3/envs/decision_trees/lib/python3.5/site-packages/tensorflow/python/framework/dtypes.py:526: FutureWarning: Passing (type, 1) or '1type' as a synonym of type is deprecated; in a future version of numpy, it will be understood as (type, (1,)) / '(1,)type'.\n",
      "  _np_quint16 = np.dtype([(\"quint16\", np.uint16, 1)])\n",
      "/home/coil/anaconda3/envs/decision_trees/lib/python3.5/site-packages/tensorflow/python/framework/dtypes.py:527: FutureWarning: Passing (type, 1) or '1type' as a synonym of type is deprecated; in a future version of numpy, it will be understood as (type, (1,)) / '(1,)type'.\n",
      "  _np_qint32 = np.dtype([(\"qint32\", np.int32, 1)])\n",
      "/home/coil/anaconda3/envs/decision_trees/lib/python3.5/site-packages/tensorflow/python/framework/dtypes.py:532: FutureWarning: Passing (type, 1) or '1type' as a synonym of type is deprecated; in a future version of numpy, it will be understood as (type, (1,)) / '(1,)type'.\n",
      "  np_resource = np.dtype([(\"resource\", np.ubyte, 1)])\n"
     ]
    }
   ],
   "source": [
    "import numpy as np\n",
    "import torch\n",
    "from torch import nn\n",
    "from torch.autograd import Variable\n",
    "from sklearn.datasets import load_iris\n",
    "from sklearn.model_selection import train_test_split\n",
    "from sklearn.metrics import accuracy_score\n",
    "from keras.utils import to_categorical\n",
    "import torch.nn.functional as F"
   ]
  },
  {
   "cell_type": "code",
   "execution_count": 25,
   "metadata": {},
   "outputs": [],
   "source": [
    "class Model(nn.Module):\n",
    "    def __init__(self, input_dim):\n",
    "        super(Model, self).__init__()\n",
    "        self.layer1 = nn.Linear(input_dim,100)\n",
    "        self.layer2 = nn.Linear(100, 30)\n",
    "        self.layer3 = nn.Linear(30, 2)\n",
    "        self.drop = nn.Dropout(0.2)\n",
    "        \n",
    "    def forward(self, x):\n",
    "        x = F.relu(self.layer1(x))\n",
    "        x = self.drop(x)\n",
    "        x = F.relu(self.layer2(x))\n",
    "        x = self.drop(x)\n",
    "        x = F.softmax(self.layer3(x)) # To check with the loss function\n",
    "        return x"
   ]
  },
  {
   "cell_type": "markdown",
   "metadata": {},
   "source": [
    "### Features, Labels"
   ]
  },
  {
   "cell_type": "code",
   "execution_count": 26,
   "metadata": {},
   "outputs": [],
   "source": [
    "#features, labels = load_iris(return_X_y=True)"
   ]
  },
  {
   "cell_type": "code",
   "execution_count": 27,
   "metadata": {},
   "outputs": [],
   "source": [
    "#features[:3]"
   ]
  },
  {
   "cell_type": "code",
   "execution_count": 28,
   "metadata": {},
   "outputs": [],
   "source": [
    "#labels[:3]"
   ]
  },
  {
   "cell_type": "code",
   "execution_count": 29,
   "metadata": {},
   "outputs": [],
   "source": [
    "#features_train,features_test, labels_train, labels_test = train_test_split(features, labels, random_state=42, shuffle=True)"
   ]
  },
  {
   "cell_type": "code",
   "execution_count": 30,
   "metadata": {},
   "outputs": [
    {
     "name": "stdout",
     "output_type": "stream",
     "text": [
      "(81925, 18) (81925,)\n",
      "(35112, 18) (35112,)\n"
     ]
    }
   ],
   "source": [
    "# mine version\n",
    "# so far the variables are dataframes, not arrays or tensors\n",
    "features_train,features_test, labels_train, labels_test = splitting_and_training(df, predictors_list)"
   ]
  },
  {
   "cell_type": "code",
   "execution_count": 31,
   "metadata": {},
   "outputs": [
    {
     "data": {
      "text/plain": [
       "array([[0.        , 0.        , 0.        , 0.60373153, 0.        ,\n",
       "        0.        , 1.        , 1.        , 1.        , 1.        ,\n",
       "        1.        , 1.        , 1.        , 1.        , 1.        ,\n",
       "        1.        , 1.        , 1.        ],\n",
       "       [0.        , 1.        , 0.        , 0.64858266, 0.        ,\n",
       "        0.        , 1.        , 1.        , 1.        , 1.        ,\n",
       "        1.        , 1.        , 1.        , 1.        , 1.        ,\n",
       "        1.        , 1.        , 1.        ],\n",
       "       [0.        , 0.        , 0.        , 0.57025818, 0.        ,\n",
       "        0.        , 1.        , 1.        , 1.        , 1.        ,\n",
       "        1.        , 1.        , 1.        , 1.        , 1.        ,\n",
       "        1.        , 1.        , 1.        ]])"
      ]
     },
     "execution_count": 31,
     "metadata": {},
     "output_type": "execute_result"
    }
   ],
   "source": [
    "features_train[:3]"
   ]
  },
  {
   "cell_type": "code",
   "execution_count": 32,
   "metadata": {},
   "outputs": [
    {
     "data": {
      "text/plain": [
       "array([1, 1, 1])"
      ]
     },
     "execution_count": 32,
     "metadata": {},
     "output_type": "execute_result"
    }
   ],
   "source": [
    "labels_train[:3]"
   ]
  },
  {
   "cell_type": "code",
   "execution_count": 33,
   "metadata": {},
   "outputs": [],
   "source": [
    "# make data tensors\n",
    "features_train = Variable(torch.Tensor(features_train).float())\n",
    "features_test  = Variable(torch.Tensor(features_test).float())\n",
    "labels_train   = Variable(torch.Tensor(labels_train).long())\n",
    "labels_test    = Variable(torch.Tensor(labels_test).long())\n",
    "\n",
    "x_train = features_train\n",
    "y_train = labels_train"
   ]
  },
  {
   "cell_type": "code",
   "execution_count": null,
   "metadata": {},
   "outputs": [],
   "source": []
  },
  {
   "cell_type": "code",
   "execution_count": null,
   "metadata": {},
   "outputs": [],
   "source": []
  },
  {
   "cell_type": "code",
   "execution_count": null,
   "metadata": {},
   "outputs": [],
   "source": []
  },
  {
   "cell_type": "code",
   "execution_count": null,
   "metadata": {},
   "outputs": [],
   "source": []
  },
  {
   "cell_type": "code",
   "execution_count": null,
   "metadata": {},
   "outputs": [],
   "source": []
  },
  {
   "cell_type": "code",
   "execution_count": 34,
   "metadata": {},
   "outputs": [],
   "source": [
    "# Training\n",
    "model = Model(features_train.shape[1])\n",
    "optimizer = torch.optim.Adam(model.parameters(), lr=0.005)\n",
    "loss_fn = nn.CrossEntropyLoss()\n",
    "epochs = 150\n",
    "\n",
    "def print_(loss):\n",
    "    print (\"The loss calculated: \", loss)"
   ]
  },
  {
   "cell_type": "code",
   "execution_count": 35,
   "metadata": {},
   "outputs": [
    {
     "name": "stdout",
     "output_type": "stream",
     "text": [
      "Epoch # 1\n"
     ]
    },
    {
     "name": "stderr",
     "output_type": "stream",
     "text": [
      "/home/coil/anaconda3/envs/decision_trees/lib/python3.5/site-packages/ipykernel_launcher.py:14: UserWarning: Implicit dimension choice for softmax has been deprecated. Change the call to include dim=X as an argument.\n",
      "  \n"
     ]
    },
    {
     "name": "stdout",
     "output_type": "stream",
     "text": [
      "The loss calculated:  0.6899831891059875\n",
      "Epoch # 2\n",
      "The loss calculated:  0.6668872833251953\n",
      "Epoch # 3\n",
      "The loss calculated:  0.6473737955093384\n",
      "Epoch # 4\n",
      "The loss calculated:  0.6288973093032837\n",
      "Epoch # 5\n",
      "The loss calculated:  0.6122158169746399\n",
      "Epoch # 6\n",
      "The loss calculated:  0.5986753106117249\n",
      "Epoch # 7\n",
      "The loss calculated:  0.5895068645477295\n",
      "Epoch # 8\n",
      "The loss calculated:  0.5843745470046997\n",
      "Epoch # 9\n",
      "The loss calculated:  0.5815328359603882\n",
      "Epoch # 10\n",
      "The loss calculated:  0.579129695892334\n",
      "Epoch # 11\n",
      "The loss calculated:  0.5768385529518127\n",
      "Epoch # 12\n",
      "The loss calculated:  0.5740838646888733\n",
      "Epoch # 13\n",
      "The loss calculated:  0.5708081126213074\n",
      "Epoch # 14\n",
      "The loss calculated:  0.5679550766944885\n",
      "Epoch # 15\n",
      "The loss calculated:  0.5655806660652161\n",
      "Epoch # 16\n",
      "The loss calculated:  0.5642478466033936\n",
      "Epoch # 17\n",
      "The loss calculated:  0.5632559061050415\n",
      "Epoch # 18\n",
      "The loss calculated:  0.5633893013000488\n",
      "Epoch # 19\n",
      "The loss calculated:  0.5634169578552246\n",
      "Epoch # 20\n",
      "The loss calculated:  0.5633461475372314\n",
      "Epoch # 21\n",
      "The loss calculated:  0.5636658072471619\n",
      "Epoch # 22\n",
      "The loss calculated:  0.5637633204460144\n",
      "Epoch # 23\n",
      "The loss calculated:  0.5638047456741333\n",
      "Epoch # 24\n",
      "The loss calculated:  0.5638378858566284\n",
      "Epoch # 25\n",
      "The loss calculated:  0.5633932948112488\n",
      "Epoch # 26\n",
      "The loss calculated:  0.5633214712142944\n",
      "Epoch # 27\n",
      "The loss calculated:  0.5627013444900513\n",
      "Epoch # 28\n",
      "The loss calculated:  0.5621302127838135\n",
      "Epoch # 29\n",
      "The loss calculated:  0.5618124604225159\n",
      "Epoch # 30\n",
      "The loss calculated:  0.5615593791007996\n",
      "Epoch # 31\n",
      "The loss calculated:  0.5613817572593689\n",
      "Epoch # 32\n",
      "The loss calculated:  0.5613062381744385\n",
      "Epoch # 33\n",
      "The loss calculated:  0.5610712170600891\n",
      "Epoch # 34\n",
      "The loss calculated:  0.5608690977096558\n",
      "Epoch # 35\n",
      "The loss calculated:  0.5609871745109558\n",
      "Epoch # 36\n",
      "The loss calculated:  0.5610141158103943\n",
      "Epoch # 37\n",
      "The loss calculated:  0.5605411529541016\n",
      "Epoch # 38\n",
      "The loss calculated:  0.5602871775627136\n",
      "Epoch # 39\n",
      "The loss calculated:  0.5602853894233704\n",
      "Epoch # 40\n",
      "The loss calculated:  0.5600144863128662\n",
      "Epoch # 41\n",
      "The loss calculated:  0.5598403215408325\n",
      "Epoch # 42\n",
      "The loss calculated:  0.5599870681762695\n",
      "Epoch # 43\n",
      "The loss calculated:  0.5599676370620728\n",
      "Epoch # 44\n",
      "The loss calculated:  0.5599595904350281\n",
      "Epoch # 45\n",
      "The loss calculated:  0.5598176717758179\n",
      "Epoch # 46\n",
      "The loss calculated:  0.5597584247589111\n",
      "Epoch # 47\n",
      "The loss calculated:  0.5594111084938049\n",
      "Epoch # 48\n",
      "The loss calculated:  0.559596598148346\n",
      "Epoch # 49\n",
      "The loss calculated:  0.559237003326416\n",
      "Epoch # 50\n",
      "The loss calculated:  0.5590981841087341\n",
      "Epoch # 51\n",
      "The loss calculated:  0.5590132474899292\n",
      "Epoch # 52\n",
      "The loss calculated:  0.5591598153114319\n",
      "Epoch # 53\n",
      "The loss calculated:  0.5590144991874695\n",
      "Epoch # 54\n",
      "The loss calculated:  0.5590764284133911\n",
      "Epoch # 55\n",
      "The loss calculated:  0.5590685606002808\n",
      "Epoch # 56\n",
      "The loss calculated:  0.5589088201522827\n",
      "Epoch # 57\n",
      "The loss calculated:  0.5589266419410706\n",
      "Epoch # 58\n",
      "The loss calculated:  0.5589046478271484\n",
      "Epoch # 59\n",
      "The loss calculated:  0.5589277148246765\n",
      "Epoch # 60\n",
      "The loss calculated:  0.5584126114845276\n",
      "Epoch # 61\n",
      "The loss calculated:  0.5587561726570129\n",
      "Epoch # 62\n",
      "The loss calculated:  0.5587317943572998\n",
      "Epoch # 63\n",
      "The loss calculated:  0.5585729479789734\n",
      "Epoch # 64\n",
      "The loss calculated:  0.558568000793457\n",
      "Epoch # 65\n",
      "The loss calculated:  0.5585795044898987\n",
      "Epoch # 66\n",
      "The loss calculated:  0.5583360195159912\n",
      "Epoch # 67\n",
      "The loss calculated:  0.5584455132484436\n",
      "Epoch # 68\n",
      "The loss calculated:  0.5583195090293884\n",
      "Epoch # 69\n",
      "The loss calculated:  0.5583729147911072\n",
      "Epoch # 70\n",
      "The loss calculated:  0.558131992816925\n",
      "Epoch # 71\n",
      "The loss calculated:  0.55841463804245\n",
      "Epoch # 72\n",
      "The loss calculated:  0.5583000183105469\n",
      "Epoch # 73\n",
      "The loss calculated:  0.558402955532074\n",
      "Epoch # 74\n",
      "The loss calculated:  0.5582301020622253\n",
      "Epoch # 75\n",
      "The loss calculated:  0.5581138134002686\n",
      "Epoch # 76\n",
      "The loss calculated:  0.5580995678901672\n",
      "Epoch # 77\n",
      "The loss calculated:  0.5583104491233826\n",
      "Epoch # 78\n",
      "The loss calculated:  0.5583242774009705\n",
      "Epoch # 79\n",
      "The loss calculated:  0.558099091053009\n",
      "Epoch # 80\n",
      "The loss calculated:  0.5581637024879456\n",
      "Epoch # 81\n",
      "The loss calculated:  0.5580411553382874\n",
      "Epoch # 82\n",
      "The loss calculated:  0.5580089688301086\n",
      "Epoch # 83\n",
      "The loss calculated:  0.5581194162368774\n",
      "Epoch # 84\n",
      "The loss calculated:  0.5578945875167847\n",
      "Epoch # 85\n",
      "The loss calculated:  0.5582108497619629\n",
      "Epoch # 86\n",
      "The loss calculated:  0.5579631924629211\n",
      "Epoch # 87\n",
      "The loss calculated:  0.557951807975769\n",
      "Epoch # 88\n",
      "The loss calculated:  0.5582349300384521\n",
      "Epoch # 89\n",
      "The loss calculated:  0.5580791234970093\n",
      "Epoch # 90\n",
      "The loss calculated:  0.5580912232398987\n",
      "Epoch # 91\n",
      "The loss calculated:  0.557822585105896\n",
      "Epoch # 92\n",
      "The loss calculated:  0.5579474568367004\n",
      "Epoch # 93\n",
      "The loss calculated:  0.5580459833145142\n",
      "Epoch # 94\n",
      "The loss calculated:  0.5578931570053101\n",
      "Epoch # 95\n",
      "The loss calculated:  0.557796835899353\n",
      "Epoch # 96\n",
      "The loss calculated:  0.5579246282577515\n",
      "Epoch # 97\n",
      "The loss calculated:  0.5579365491867065\n",
      "Epoch # 98\n",
      "The loss calculated:  0.5578290820121765\n",
      "Epoch # 99\n",
      "The loss calculated:  0.5577880144119263\n",
      "Epoch # 100\n",
      "The loss calculated:  0.5579425692558289\n",
      "Epoch # 101\n",
      "The loss calculated:  0.5579735040664673\n",
      "Epoch # 102\n",
      "The loss calculated:  0.5579021573066711\n",
      "Epoch # 103\n",
      "The loss calculated:  0.557834804058075\n",
      "Epoch # 104\n",
      "The loss calculated:  0.5576907992362976\n",
      "Epoch # 105\n",
      "The loss calculated:  0.5579015016555786\n",
      "Epoch # 106\n",
      "The loss calculated:  0.5578812956809998\n",
      "Epoch # 107\n",
      "The loss calculated:  0.5578544735908508\n",
      "Epoch # 108\n",
      "The loss calculated:  0.5578688383102417\n",
      "Epoch # 109\n",
      "The loss calculated:  0.5577183961868286\n",
      "Epoch # 110\n",
      "The loss calculated:  0.5578265190124512\n",
      "Epoch # 111\n",
      "The loss calculated:  0.5578633546829224\n",
      "Epoch # 112\n",
      "The loss calculated:  0.5576661229133606\n",
      "Epoch # 113\n",
      "The loss calculated:  0.5575401186943054\n",
      "Epoch # 114\n",
      "The loss calculated:  0.5577540993690491\n",
      "Epoch # 115\n",
      "The loss calculated:  0.5577229261398315\n",
      "Epoch # 116\n",
      "The loss calculated:  0.557586669921875\n",
      "Epoch # 117\n",
      "The loss calculated:  0.557704508304596\n",
      "Epoch # 118\n",
      "The loss calculated:  0.5576503872871399\n",
      "Epoch # 119\n",
      "The loss calculated:  0.5576353073120117\n",
      "Epoch # 120\n",
      "The loss calculated:  0.5576555132865906\n",
      "Epoch # 121\n",
      "The loss calculated:  0.5576655268669128\n",
      "Epoch # 122\n",
      "The loss calculated:  0.5577729940414429\n",
      "Epoch # 123\n",
      "The loss calculated:  0.5577083826065063\n",
      "Epoch # 124\n",
      "The loss calculated:  0.5575713515281677\n",
      "Epoch # 125\n",
      "The loss calculated:  0.5575408339500427\n",
      "Epoch # 126\n",
      "The loss calculated:  0.5576742887496948\n",
      "Epoch # 127\n",
      "The loss calculated:  0.5575987100601196\n",
      "Epoch # 128\n",
      "The loss calculated:  0.5574367046356201\n",
      "Epoch # 129\n",
      "The loss calculated:  0.5576167106628418\n",
      "Epoch # 130\n",
      "The loss calculated:  0.557499885559082\n",
      "Epoch # 131\n",
      "The loss calculated:  0.5573645234107971\n",
      "Epoch # 132\n",
      "The loss calculated:  0.5574638843536377\n",
      "Epoch # 133\n",
      "The loss calculated:  0.5576833486557007\n",
      "Epoch # 134\n",
      "The loss calculated:  0.5575346350669861\n",
      "Epoch # 135\n",
      "The loss calculated:  0.5574941039085388\n",
      "Epoch # 136\n",
      "The loss calculated:  0.557369589805603\n",
      "Epoch # 137\n",
      "The loss calculated:  0.5574191212654114\n",
      "Epoch # 138\n",
      "The loss calculated:  0.557375967502594\n",
      "Epoch # 139\n",
      "The loss calculated:  0.5574331283569336\n",
      "Epoch # 140\n",
      "The loss calculated:  0.5572737455368042\n",
      "Epoch # 141\n",
      "The loss calculated:  0.5574622750282288\n",
      "Epoch # 142\n",
      "The loss calculated:  0.5573206543922424\n",
      "Epoch # 143\n",
      "The loss calculated:  0.5574856996536255\n",
      "Epoch # 144\n",
      "The loss calculated:  0.5575013160705566\n",
      "Epoch # 145\n",
      "The loss calculated:  0.5574091672897339\n",
      "Epoch # 146\n",
      "The loss calculated:  0.557424008846283\n",
      "Epoch # 147\n",
      "The loss calculated:  0.557168185710907\n",
      "Epoch # 148\n",
      "The loss calculated:  0.5572803616523743\n",
      "Epoch # 149\n",
      "The loss calculated:  0.5574122071266174\n",
      "Epoch # 150\n",
      "The loss calculated:  0.5571383237838745\n"
     ]
    }
   ],
   "source": [
    "# Not using dataloader\n",
    "#######x_train, y_train = Variable(torch.from_numpy(features_train)).float(), Variable(torch.from_numpy(labels_train)).long()\n",
    "for epoch in range(1, epochs+1):\n",
    "    print (\"Epoch #\",epoch)\n",
    "    y_pred = model(x_train)\n",
    "    loss = loss_fn(y_pred, y_train)\n",
    "    print_(loss.item())\n",
    "    \n",
    "    # Zero gradients\n",
    "    optimizer.zero_grad()\n",
    "    loss.backward() # Gradients\n",
    "    optimizer.step() # Update"
   ]
  },
  {
   "cell_type": "code",
   "execution_count": 36,
   "metadata": {},
   "outputs": [
    {
     "name": "stderr",
     "output_type": "stream",
     "text": [
      "/home/coil/anaconda3/envs/decision_trees/lib/python3.5/site-packages/ipykernel_launcher.py:14: UserWarning: Implicit dimension choice for softmax has been deprecated. Change the call to include dim=X as an argument.\n",
      "  \n"
     ]
    }
   ],
   "source": [
    "# Prediction\n",
    "######x_test = Variable(torch.from_numpy(features_test)).float()\n",
    "x_test = features_test\n",
    "\n",
    "pred = model(x_test)"
   ]
  },
  {
   "cell_type": "code",
   "execution_count": 37,
   "metadata": {},
   "outputs": [],
   "source": [
    "pred = pred.detach().numpy()"
   ]
  },
  {
   "cell_type": "code",
   "execution_count": 38,
   "metadata": {},
   "outputs": [
    {
     "data": {
      "text/plain": [
       "array([[9.1468744e-02, 9.0853125e-01],\n",
       "       [9.4404088e-05, 9.9990559e-01],\n",
       "       [6.0285771e-01, 3.9714229e-01],\n",
       "       ...,\n",
       "       [9.9863321e-01, 1.3668122e-03],\n",
       "       [5.7456392e-01, 4.2543608e-01],\n",
       "       [1.5819230e-11, 1.0000000e+00]], dtype=float32)"
      ]
     },
     "execution_count": 38,
     "metadata": {},
     "output_type": "execute_result"
    }
   ],
   "source": [
    "pred"
   ]
  },
  {
   "cell_type": "markdown",
   "metadata": {},
   "source": [
    "# ACCURACY"
   ]
  },
  {
   "cell_type": "code",
   "execution_count": 39,
   "metadata": {},
   "outputs": [
    {
     "name": "stdout",
     "output_type": "stream",
     "text": [
      "The accuracy is 0.7342503987240829\n"
     ]
    }
   ],
   "source": [
    "print (\"The accuracy is\", accuracy_score(labels_test, np.argmax(pred, axis=1)))"
   ]
  },
  {
   "cell_type": "code",
   "execution_count": 40,
   "metadata": {},
   "outputs": [
    {
     "name": "stderr",
     "output_type": "stream",
     "text": [
      "/home/coil/anaconda3/envs/decision_trees/lib/python3.5/site-packages/ipykernel_launcher.py:14: UserWarning: Implicit dimension choice for softmax has been deprecated. Change the call to include dim=X as an argument.\n",
      "  \n"
     ]
    },
    {
     "data": {
      "text/plain": [
       "1"
      ]
     },
     "execution_count": 40,
     "metadata": {},
     "output_type": "execute_result"
    }
   ],
   "source": [
    "# Checking for first value\n",
    "np.argmax(model(x_test[0]).detach().numpy(), axis=0)"
   ]
  },
  {
   "cell_type": "code",
   "execution_count": 41,
   "metadata": {},
   "outputs": [
    {
     "data": {
      "text/plain": [
       "tensor(0)"
      ]
     },
     "execution_count": 41,
     "metadata": {},
     "output_type": "execute_result"
    }
   ],
   "source": [
    "labels_test[0]"
   ]
  },
  {
   "cell_type": "code",
   "execution_count": 42,
   "metadata": {},
   "outputs": [
    {
     "name": "stderr",
     "output_type": "stream",
     "text": [
      "/home/coil/anaconda3/envs/decision_trees/lib/python3.5/site-packages/torch/serialization.py:402: UserWarning: Couldn't retrieve source code for container of type Model. It won't be checked for correctness upon loading.\n",
      "  \"type \" + obj.__name__ + \". It won't be checked \"\n"
     ]
    }
   ],
   "source": [
    "torch.save(model, \"iris-pytorch.pkl\")"
   ]
  },
  {
   "cell_type": "code",
   "execution_count": 43,
   "metadata": {},
   "outputs": [],
   "source": [
    "saved_model = torch.load(\"iris-pytorch.pkl\")"
   ]
  },
  {
   "cell_type": "code",
   "execution_count": 44,
   "metadata": {},
   "outputs": [
    {
     "name": "stderr",
     "output_type": "stream",
     "text": [
      "/home/coil/anaconda3/envs/decision_trees/lib/python3.5/site-packages/ipykernel_launcher.py:14: UserWarning: Implicit dimension choice for softmax has been deprecated. Change the call to include dim=X as an argument.\n",
      "  \n"
     ]
    },
    {
     "data": {
      "text/plain": [
       "1"
      ]
     },
     "execution_count": 44,
     "metadata": {},
     "output_type": "execute_result"
    }
   ],
   "source": [
    "np.argmax(saved_model(x_test[0]).detach().numpy(), axis=0)"
   ]
  },
  {
   "cell_type": "code",
   "execution_count": 45,
   "metadata": {},
   "outputs": [
    {
     "data": {
      "text/plain": [
       "tensor([1.0000, 0.0000, 0.0000, 0.5639, 0.0000, 0.0000, 1.0000, 1.0000, 1.0000,\n",
       "        1.0000, 1.0000, 1.0000, 1.0000, 1.0000, 1.0000, 1.0000, 1.0000, 1.0000])"
      ]
     },
     "execution_count": 45,
     "metadata": {},
     "output_type": "execute_result"
    }
   ],
   "source": [
    "x_test[0]"
   ]
  },
  {
   "cell_type": "code",
   "execution_count": 46,
   "metadata": {},
   "outputs": [
    {
     "name": "stdout",
     "output_type": "stream",
     "text": [
      "tensor([1.0000, 0.0000, 0.0000, 0.5639, 0.0000, 0.0000, 1.0000, 1.0000, 1.0000,\n",
      "        1.0000, 1.0000, 1.0000, 1.0000, 1.0000, 1.0000, 1.0000, 1.0000, 1.0000])\n",
      "prediction 1\n",
      "tensor([0.0000, 1.0000, 0.0000, 0.6819, 0.0000, 0.0000, 1.0000, 1.0000, 1.0000,\n",
      "        1.0000, 1.0000, 1.0000, 1.0000, 1.0000, 1.0000, 1.0000, 1.0000, 1.0000])\n",
      "prediction 1\n",
      "tensor([0.0000, 0.0000, 0.0000, 0.4684, 0.0000, 0.0000, 0.0000, 0.0000, 0.0000,\n",
      "        0.0000, 0.0000, 0.0000, 0.0000, 0.0000, 0.0000, 0.0000, 0.0000, 0.0000])\n",
      "prediction 0\n"
     ]
    },
    {
     "name": "stderr",
     "output_type": "stream",
     "text": [
      "/home/coil/anaconda3/envs/decision_trees/lib/python3.5/site-packages/ipykernel_launcher.py:14: UserWarning: Implicit dimension choice for softmax has been deprecated. Change the call to include dim=X as an argument.\n",
      "  \n"
     ]
    }
   ],
   "source": [
    "for i in x_test[:3]:\n",
    "    print(i)\n",
    "    prediction = np.argmax(saved_model(i).detach().numpy(), axis=0)\n",
    "    print('prediction', prediction)"
   ]
  },
  {
   "cell_type": "code",
   "execution_count": null,
   "metadata": {},
   "outputs": [],
   "source": []
  },
  {
   "cell_type": "code",
   "execution_count": 47,
   "metadata": {},
   "outputs": [],
   "source": [
    "############ END OF MAIN SOURCE ###############"
   ]
  },
  {
   "cell_type": "code",
   "execution_count": null,
   "metadata": {},
   "outputs": [],
   "source": []
  },
  {
   "cell_type": "code",
   "execution_count": null,
   "metadata": {},
   "outputs": [],
   "source": []
  },
  {
   "cell_type": "markdown",
   "metadata": {},
   "source": [
    "## PREDICTION ON UNKNOWN DATA"
   ]
  },
  {
   "cell_type": "code",
   "execution_count": 72,
   "metadata": {},
   "outputs": [],
   "source": [
    "#ticker='BP'\n",
    "#ticker='ABBV'\n",
    "#ticker='GILD'\n",
    "#ticker='NGG'\n",
    "#ticker='BPY'\n",
    "ticker='AIR'"
   ]
  },
  {
   "cell_type": "code",
   "execution_count": 73,
   "metadata": {},
   "outputs": [],
   "source": [
    "def plot_stock_prediction(df, ticker):\n",
    "    # plot  values and significant levels\n",
    "    plt.figure(figsize=(30,7))\n",
    "    plt.title('Predictive model ' + str(ticker))\n",
    "    plt.plot(df['Date'], df['Adj Close'], label='Adj Close', alpha=0.2)\n",
    "\n",
    "    plt.plot(df['Date'], df['EMA10'], label='EMA10', alpha=0.2)\n",
    "    plt.plot(df['Date'], df['EMA20'], label='EMA20', alpha=0.2)\n",
    "    plt.plot(df['Date'], df['EMA30'], label='EMA30', alpha=0.2)\n",
    "    plt.plot(df['Date'], df['EMA40'], label='EMA40', alpha=0.2)\n",
    "    plt.plot(df['Date'], df['EMA50'], label='EMA50', alpha=0.2)\n",
    "    plt.plot(df['Date'], df['EMA100'], label='EMA100', alpha=0.2)\n",
    "    plt.plot(df['Date'], df['EMA150'], label='EMA150', alpha=0.99)\n",
    "    plt.plot(df['Date'], df['EMA200'], label='EMA200', alpha=0.2)\n",
    "\n",
    "\n",
    "    plt.scatter(df['Date'], df['Buy']*df['Adj Close'], label='Buy', marker='^', color='magenta', alpha=0.15)\n",
    "    #lt.scatter(df.index, df['sell_sig'], label='Sell', marker='v')\n",
    "\n",
    "    plt.legend()\n",
    "\n",
    "    plt.show()\n",
    "\n",
    "    return None   "
   ]
  },
  {
   "cell_type": "code",
   "execution_count": 74,
   "metadata": {},
   "outputs": [
    {
     "name": "stdout",
     "output_type": "stream",
     "text": [
      "connected to yahoo\n"
     ]
    }
   ],
   "source": [
    "new_df = get_data(ticker)"
   ]
  },
  {
   "cell_type": "code",
   "execution_count": 75,
   "metadata": {},
   "outputs": [],
   "source": [
    "new_df = compute_technical_indicators(new_df)"
   ]
  },
  {
   "cell_type": "code",
   "execution_count": 76,
   "metadata": {},
   "outputs": [],
   "source": [
    "new_df = compute_features(new_df)"
   ]
  },
  {
   "cell_type": "code",
   "execution_count": 77,
   "metadata": {},
   "outputs": [],
   "source": [
    "new_df=define_target_condition(new_df)"
   ]
  },
  {
   "cell_type": "code",
   "execution_count": 78,
   "metadata": {},
   "outputs": [],
   "source": [
    "saved_model = torch.load(\"iris-pytorch.pkl\")"
   ]
  },
  {
   "cell_type": "code",
   "execution_count": 79,
   "metadata": {},
   "outputs": [],
   "source": [
    "def predict_timeseries(df):\n",
    "    \n",
    "    # making sure we have good dimensions\n",
    "    # column will be rewritten later\n",
    "    df['Buy'] = df['target_cls']\n",
    "    \n",
    "    for i in range(len(df)):\n",
    "        X_cls_valid = [[df['aboveSAR'][i],df['aboveUpperBB'][i],df['belowLowerBB'][i],\n",
    "                        df['normRSI'][i],df['oversoldRSI'][i],df['overboughtRSI'][i],\n",
    "                        df['aboveEMA5'][i],df['aboveEMA10'][i],df['aboveEMA15'][i],df['aboveEMA20'][i],\n",
    "                        df['aboveEMA30'][i],df['aboveEMA40'][i],df['aboveEMA50'][i],\n",
    "                        df['aboveEMA60'][i],df['aboveEMA70'][i],df['aboveEMA80'][i],df['aboveEMA90'][i],\n",
    "                        df['aboveEMA100'][i]]]    \n",
    "\n",
    "        x_test = Variable(torch.Tensor(X_cls_valid).float())    \n",
    "        \n",
    "        #####print('x_test',x_test)\n",
    "        \n",
    "\n",
    "        #####print('i',i)\n",
    "        prediction = np.argmax(saved_model(x_test[0]).detach().numpy(), axis=0)\n",
    "        #####print('prediction', prediction)        \n",
    "  \n",
    "    \n",
    "        df['Buy'][i] = prediction\n",
    "\n",
    "\n",
    "    print(df.head())    \n",
    "        \n",
    "    return df"
   ]
  },
  {
   "cell_type": "code",
   "execution_count": null,
   "metadata": {},
   "outputs": [],
   "source": []
  },
  {
   "cell_type": "code",
   "execution_count": null,
   "metadata": {},
   "outputs": [],
   "source": []
  },
  {
   "cell_type": "code",
   "execution_count": null,
   "metadata": {},
   "outputs": [],
   "source": []
  },
  {
   "cell_type": "code",
   "execution_count": null,
   "metadata": {},
   "outputs": [],
   "source": []
  },
  {
   "cell_type": "code",
   "execution_count": null,
   "metadata": {},
   "outputs": [],
   "source": []
  },
  {
   "cell_type": "code",
   "execution_count": 80,
   "metadata": {},
   "outputs": [
    {
     "name": "stderr",
     "output_type": "stream",
     "text": [
      "/home/coil/anaconda3/envs/decision_trees/lib/python3.5/site-packages/ipykernel_launcher.py:14: UserWarning: Implicit dimension choice for softmax has been deprecated. Change the call to include dim=X as an argument.\n",
      "  \n"
     ]
    },
    {
     "name": "stdout",
     "output_type": "stream",
     "text": [
      "        Date      High       Low  Open     Close   Volume  Adj Close      EMA5  EMA10  EMA15  ...  aboveEMA100  aboveEMA150  aboveEMA200  aboveUpperBB  belowLowerBB  aboveSAR  oversoldRSI  overboughtRSI  target_cls  Buy\n",
      "0 1980-03-17  3.925926  3.814815   0.0  3.888889   6300.0   2.220627  0.000000    0.0    0.0  ...            0            0            0             0             0         0            0              0           1    0\n",
      "1 1980-03-18  3.777778  3.592592   0.0  3.703704  12100.0   2.114883  0.000000    0.0    0.0  ...            0            0            0             0             0         0            0              0           1    0\n",
      "2 1980-03-19  3.666667  3.629630   0.0  3.629630   6000.0   2.072587  0.000000    0.0    0.0  ...            0            0            0             0             0         0            0              0           1    0\n",
      "3 1980-03-20  3.629630  3.481482   0.0  3.481482   8700.0   1.987990  0.000000    0.0    0.0  ...            0            0            0             0             0         0            0              0           1    0\n",
      "4 1980-03-21  3.555556  3.481482   0.0  3.518518  12300.0   2.009139  2.081045    0.0    0.0  ...            0            0            0             0             0         0            0              0           1    0\n",
      "\n",
      "[5 rows x 48 columns]\n"
     ]
    }
   ],
   "source": [
    "new_df = predict_timeseries(new_df)"
   ]
  },
  {
   "cell_type": "code",
   "execution_count": 81,
   "metadata": {},
   "outputs": [
    {
     "data": {
      "image/png": "[encoded data removed]",
      "text/plain": [
       "<Figure size 1440x504 with 1 Axes>"
      ]
     },
     "metadata": {
      "needs_background": "light"
     },
     "output_type": "display_data"
    }
   ],
   "source": [
    "plot_stock_prediction(new_df, ticker)"
   ]
  },
  {
   "cell_type": "code",
   "execution_count": 86,
   "metadata": {},
   "outputs": [],
   "source": [
    "# zoom in on the data\n",
    "temp_df = new_df[-3000:-2000]"
   ]
  },
  {
   "cell_type": "code",
   "execution_count": 87,
   "metadata": {},
   "outputs": [
    {
     "data": {
      "image/png": "[encoded data removed]",
      "text/plain": [
       "<Figure size 1440x504 with 1 Axes>"
      ]
     },
     "metadata": {
      "needs_background": "light"
     },
     "output_type": "display_data"
    }
   ],
   "source": [
    "plot_stock_prediction(temp_df, ticker)"
   ]
  },
  {
   "cell_type": "code",
   "execution_count": null,
   "metadata": {},
   "outputs": [],
   "source": []
  },
  {
   "cell_type": "code",
   "execution_count": null,
   "metadata": {},
   "outputs": [],
   "source": []
  },
  {
   "cell_type": "code",
   "execution_count": null,
   "metadata": {},
   "outputs": [],
   "source": []
  },
  {
   "cell_type": "code",
   "execution_count": null,
   "metadata": {},
   "outputs": [],
   "source": []
  }
 ],
 "metadata": {
  "kernelspec": {
   "display_name": "Python 3",
   "language": "python",
   "name": "python3"
  },
  "language_info": {
   "codemirror_mode": {
    "name": "ipython",
    "version": 3
   },
   "file_extension": ".py",
   "mimetype": "text/x-python",
   "name": "python",
   "nbconvert_exporter": "python",
   "pygments_lexer": "ipython3",
   "version": "3.5.6"
  }
 },
 "nbformat": 4,
 "nbformat_minor": 4
}
