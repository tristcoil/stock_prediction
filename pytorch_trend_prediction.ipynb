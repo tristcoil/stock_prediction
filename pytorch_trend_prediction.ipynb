{
 "cells": [
  {
   "cell_type": "code",
   "execution_count": 1,
   "metadata": {},
   "outputs": [],
   "source": [
    "# main source\n",
    "# https://www.kaggle.com/tristcoil/iris-classification-pytorch/edit\n",
    "\n",
    "# secondary sources\n",
    "# https://medium.com/jovianml/torch-logistic-regression-on-iris-dataset-d966b23339da\n",
    "# https://www.kaggle.com/aaditkapoor1201/iris-classification-pytorch\n"
   ]
  },
  {
   "cell_type": "code",
   "execution_count": 2,
   "metadata": {},
   "outputs": [],
   "source": [
    "### GET STOCK DATA ###"
   ]
  },
  {
   "cell_type": "code",
   "execution_count": 3,
   "metadata": {},
   "outputs": [],
   "source": [
    "import talib as ta\n",
    "import joblib"
   ]
  },
  {
   "cell_type": "code",
   "execution_count": 4,
   "metadata": {},
   "outputs": [],
   "source": [
    "import pandas as pd\n",
    "\n",
    "#suppress 'SettingWithCopy' warning\n",
    "pd.set_option('mode.chained_assignment', None)"
   ]
  },
  {
   "cell_type": "code",
   "execution_count": 5,
   "metadata": {},
   "outputs": [],
   "source": [
    "#!pip install pandas_datareader\n",
    "#!pip3 install seaborn\n",
    "import seaborn as sns"
   ]
  },
  {
   "cell_type": "code",
   "execution_count": 6,
   "metadata": {},
   "outputs": [
    {
     "data": {
      "text/html": [
       "<style>.container { width:100% !important; }</style>"
      ],
      "text/plain": [
       "<IPython.core.display.HTML object>"
      ]
     },
     "metadata": {},
     "output_type": "display_data"
    }
   ],
   "source": [
    "from IPython.core.display import display, HTML\n",
    "display(HTML(\"<style>.container { width:100% !important; }</style>\"))\n",
    "\n",
    "# ___library_import_statements___\n",
    "import pandas as pd\n",
    "\n",
    "# for pandas_datareader, otherwise it might have issues, sometimes there is some version mismatch\n",
    "pd.core.common.is_list_like = pd.api.types.is_list_like\n",
    "\n",
    "# make pandas to print dataframes nicely\n",
    "pd.set_option('expand_frame_repr', False)  \n",
    "\n",
    "import pandas_datareader.data as web\n",
    "import numpy as np\n",
    "import matplotlib.pyplot as plt\n",
    "import datetime\n",
    "import time\n",
    "\n",
    "#newest yahoo API \n",
    "import yfinance as yahoo_finance\n",
    "\n",
    "#optional \n",
    "#yahoo_finance.pdr_override()\n",
    "\n",
    "%matplotlib inline"
   ]
  },
  {
   "cell_type": "code",
   "execution_count": 7,
   "metadata": {},
   "outputs": [],
   "source": [
    "import talib as ta\n",
    "import numpy as np\n",
    "\n",
    "import matplotlib.pyplot as plt\n",
    "\n",
    "# was giving me some warnings\n",
    "from pandas.plotting import register_matplotlib_converters\n",
    "register_matplotlib_converters()"
   ]
  },
  {
   "cell_type": "code",
   "execution_count": 8,
   "metadata": {},
   "outputs": [],
   "source": [
    "# ___variables___\n",
    "#ticker = 'AAPL'\n",
    "#ticker = 'TSLA'\n",
    "#ticker = 'FB'\n",
    "#ticker = 'MSFT'\n",
    "#ticker = 'NFLX'\n",
    "#ticker = 'GOOGL'\n",
    "ticker = 'BIDU'\n",
    "#ticker = 'AMZN'\n",
    "#ticker = 'IBM'\n",
    "\n",
    "start_time = datetime.datetime(1980, 1, 1)\n",
    "#end_time = datetime.datetime(2019, 1, 20)\n",
    "end_time = datetime.datetime.now().date().isoformat()         # today"
   ]
  },
  {
   "cell_type": "code",
   "execution_count": 9,
   "metadata": {},
   "outputs": [],
   "source": [
    "def get_data(ticker):\n",
    "    # yahoo gives only daily historical data\n",
    "    connected = False\n",
    "    while not connected:\n",
    "        try:\n",
    "            df = web.get_data_yahoo(ticker, start=start_time, end=end_time)\n",
    "            connected = True\n",
    "            print('connected to yahoo')\n",
    "        except Exception as e:\n",
    "            print(\"type error: \" + str(e))\n",
    "            time.sleep( 5 )\n",
    "            pass   \n",
    "\n",
    "    # use numerical integer index instead of date    \n",
    "    df = df.reset_index()\n",
    "    #print(df.head(5))\n",
    "    return df"
   ]
  },
  {
   "cell_type": "code",
   "execution_count": 10,
   "metadata": {},
   "outputs": [],
   "source": [
    "#df = get_data(ticker)"
   ]
  },
  {
   "cell_type": "code",
   "execution_count": 11,
   "metadata": {},
   "outputs": [],
   "source": [
    "def compute_technical_indicators(df):\n",
    "    df['EMA5'] = ta.EMA(df['Adj Close'].values, timeperiod=5)\n",
    "    df['EMA10'] = ta.EMA(df['Adj Close'].values, timeperiod=10)\n",
    "    df['EMA15'] = ta.EMA(df['Adj Close'].values, timeperiod=15)\n",
    "    df['EMA20'] = ta.EMA(df['Adj Close'].values, timeperiod=10)\n",
    "    df['EMA30'] = ta.EMA(df['Adj Close'].values, timeperiod=30)\n",
    "    df['EMA40'] = ta.EMA(df['Adj Close'].values, timeperiod=40)\n",
    "    df['EMA50'] = ta.EMA(df['Adj Close'].values, timeperiod=50)\n",
    "\n",
    "    df['EMA60'] = ta.EMA(df['Adj Close'].values, timeperiod=60)\n",
    "    df['EMA70'] = ta.EMA(df['Adj Close'].values, timeperiod=70)\n",
    "    df['EMA80'] = ta.EMA(df['Adj Close'].values, timeperiod=80)\n",
    "    df['EMA90'] = ta.EMA(df['Adj Close'].values, timeperiod=90)\n",
    "    \n",
    "    df['EMA100'] = ta.EMA(df['Adj Close'].values, timeperiod=100)\n",
    "    df['EMA150'] = ta.EMA(df['Adj Close'].values, timeperiod=150)\n",
    "    df['EMA200'] = ta.EMA(df['Adj Close'].values, timeperiod=200)\n",
    "\n",
    "    df['upperBB'], df['middleBB'], df['lowerBB'] = ta.BBANDS(df['Adj Close'].values, timeperiod=20, nbdevup=2, nbdevdn=2, matype=0)\n",
    "\n",
    "    df['SAR'] = ta.SAR(df['High'].values, df['Low'].values, acceleration=0.02, maximum=0.2)\n",
    "\n",
    "    # we will normalize RSI\n",
    "    df['RSI'] = ta.RSI(df['Adj Close'].values, timeperiod=14)\n",
    "\n",
    "    df['normRSI'] = ta.RSI(df['Adj Close'].values, timeperiod=14) / 100.0\n",
    "    \n",
    "    df.tail()\n",
    "\n",
    "    return df"
   ]
  },
  {
   "cell_type": "code",
   "execution_count": 12,
   "metadata": {},
   "outputs": [],
   "source": [
    "#df = compute_technical_indicators(df)"
   ]
  },
  {
   "cell_type": "code",
   "execution_count": 13,
   "metadata": {},
   "outputs": [],
   "source": [
    "def compute_features(df):\n",
    "    # computes features for forest decisions\n",
    "    df['aboveEMA5'] = np.where(df['Adj Close'] > df['EMA5'], 1, -1)\n",
    "    df['aboveEMA10'] = np.where(df['Adj Close'] > df['EMA10'], 1, -1)\n",
    "    df['aboveEMA15'] = np.where(df['Adj Close'] > df['EMA15'], 1, -1)\n",
    "    df['aboveEMA20'] = np.where(df['Adj Close'] > df['EMA20'], 1, -1)\n",
    "    df['aboveEMA30'] = np.where(df['Adj Close'] > df['EMA30'], 1, -1)\n",
    "    df['aboveEMA40'] = np.where(df['Adj Close'] > df['EMA40'], 1, -1)\n",
    "    \n",
    "    df['aboveEMA50'] = np.where(df['Adj Close'] > df['EMA50'], 1, -1)\n",
    "    df['aboveEMA60'] = np.where(df['Adj Close'] > df['EMA60'], 1, -1)\n",
    "    df['aboveEMA70'] = np.where(df['Adj Close'] > df['EMA70'], 1, -1)\n",
    "    df['aboveEMA80'] = np.where(df['Adj Close'] > df['EMA80'], 1, -1)\n",
    "    df['aboveEMA90'] = np.where(df['Adj Close'] > df['EMA90'], 1, -1)\n",
    "    \n",
    "    df['aboveEMA100'] = np.where(df['Adj Close'] > df['EMA100'], 1, -1)\n",
    "    df['aboveEMA150'] = np.where(df['Adj Close'] > df['EMA150'], 1, -1)\n",
    "    df['aboveEMA200'] = np.where(df['Adj Close'] > df['EMA200'], 1, -1)\n",
    "\n",
    "    df['aboveUpperBB'] = np.where(df['Adj Close'] > df['upperBB'], 1, -1)\n",
    "    df['belowLowerBB'] = np.where(df['Adj Close'] < df['lowerBB'], 1, -1)\n",
    "    \n",
    "    df['aboveSAR'] = np.where(df['Adj Close'] > df['SAR'], 1, -1)\n",
    "   \n",
    "    df['oversoldRSI'] = np.where(df['RSI'] < 30, 1, -1)\n",
    "    df['overboughtRSI'] = np.where(df['RSI'] > 70, 1, -1)\n",
    "\n",
    "\n",
    "    # very important - cleanup NaN values, otherwise prediction does not work\n",
    "    df=df.fillna(0).copy()\n",
    "    \n",
    "    df.tail()\n",
    "\n",
    "    return df"
   ]
  },
  {
   "cell_type": "code",
   "execution_count": 14,
   "metadata": {},
   "outputs": [],
   "source": [
    "#df = compute_features(df)"
   ]
  },
  {
   "cell_type": "code",
   "execution_count": 15,
   "metadata": {},
   "outputs": [],
   "source": [
    "def plot_train_data(df):\n",
    "    # plot price\n",
    "    plt.figure(figsize=(15,2.5))\n",
    "    plt.title('Stock data ' + str(ticker))\n",
    "    plt.plot(df['Date'], df['Adj Close'])\n",
    "    #plt.title('Price chart (Adj Close) ' + str(ticker))\n",
    "    plt.show()\n",
    "    return None"
   ]
  },
  {
   "cell_type": "code",
   "execution_count": 16,
   "metadata": {},
   "outputs": [],
   "source": [
    "def define_target_condition(df):\n",
    " \n",
    "    # price higher later - bad predictive results\n",
    "    #df['target_cls'] = np.where(df['Adj Close'].shift(-34) > df['Adj Close'], 1, 0)    \n",
    "    \n",
    "    # price above trend multiple days later\n",
    "    df['target_cls'] = np.where(df['Adj Close'].shift(-55) > df.EMA150.shift(-55), 1, 0)\n",
    "\n",
    "    # important, remove NaN values\n",
    "    df=df.fillna(0).copy()\n",
    "    \n",
    "    df.tail()\n",
    "    \n",
    "    return df"
   ]
  },
  {
   "cell_type": "code",
   "execution_count": 17,
   "metadata": {},
   "outputs": [],
   "source": [
    "#df = define_target_condition(df)"
   ]
  },
  {
   "cell_type": "code",
   "execution_count": 18,
   "metadata": {},
   "outputs": [],
   "source": [
    "#plot_train_data(df)"
   ]
  },
  {
   "cell_type": "code",
   "execution_count": null,
   "metadata": {},
   "outputs": [],
   "source": []
  },
  {
   "cell_type": "markdown",
   "metadata": {},
   "source": [
    "### Create one big training dataframe"
   ]
  },
  {
   "cell_type": "code",
   "execution_count": 19,
   "metadata": {},
   "outputs": [],
   "source": [
    "tickers = ['F', 'IBM', 'GE', 'AAPL', 'ADM',\n",
    "           'XOM', 'GM','MMM','KO','PEP','SO','GS',           \n",
    "           'HAS','PEAK','HPE','HLT','HD','HON','HRL','HST','HPQ','HUM','ILMN'] \n",
    "#           'INTC','ICE','INTU','ISRG','IVZ','IRM','JNJ','JPM','JNPR','K','KMB', \n",
    "#           'KIM', 'KMI','KSS','KHC', 'KR',  'LB', 'LEG', 'LIN', 'LMT','LOW',\n",
    "#           'MAR', 'MA','MCD','MDT', 'MRK', 'MET', 'MGM', 'MU','MSFT', 'MAA', \n",
    "#           'MNST', 'MCO','MS', 'MSI',\n",
    "#           'MMM', 'ABT','ACN','ATVI','ADBE','AMD','A','AKAM','ARE','GOOG','AMZN','AAL']\n"
   ]
  },
  {
   "cell_type": "code",
   "execution_count": 20,
   "metadata": {},
   "outputs": [
    {
     "name": "stdout",
     "output_type": "stream",
     "text": [
      "connected to yahoo\n",
      "connected to yahoo\n",
      "connected to yahoo\n",
      "connected to yahoo\n",
      "connected to yahoo\n",
      "connected to yahoo\n",
      "connected to yahoo\n",
      "connected to yahoo\n",
      "connected to yahoo\n",
      "connected to yahoo\n",
      "connected to yahoo\n",
      "connected to yahoo\n",
      "connected to yahoo\n",
      "connected to yahoo\n",
      "connected to yahoo\n",
      "connected to yahoo\n",
      "connected to yahoo\n",
      "connected to yahoo\n",
      "connected to yahoo\n",
      "connected to yahoo\n",
      "connected to yahoo\n",
      "connected to yahoo\n",
      "connected to yahoo\n",
      "connected to yahoo\n"
     ]
    }
   ],
   "source": [
    "# parent dataframe to append to\n",
    "ticker = 'SPY'\n",
    "df = get_data(ticker)\n",
    "df = compute_technical_indicators(df)\n",
    "df = compute_features(df)\n",
    "df = define_target_condition(df)\n",
    "\n",
    "\n",
    "\n",
    "\n",
    "for ticker in tickers:\n",
    "    t_df = get_data(ticker)\n",
    "    t_df = compute_technical_indicators(t_df)\n",
    "    t_df = compute_features(t_df)\n",
    "    t_df = define_target_condition(t_df)\n",
    "    \n",
    "    df = df.append(t_df, ignore_index=True)\n",
    "    \n",
    "    "
   ]
  },
  {
   "cell_type": "code",
   "execution_count": null,
   "metadata": {},
   "outputs": [],
   "source": []
  },
  {
   "cell_type": "code",
   "execution_count": null,
   "metadata": {},
   "outputs": [],
   "source": []
  },
  {
   "cell_type": "code",
   "execution_count": null,
   "metadata": {},
   "outputs": [],
   "source": []
  },
  {
   "cell_type": "code",
   "execution_count": null,
   "metadata": {},
   "outputs": [],
   "source": []
  },
  {
   "cell_type": "code",
   "execution_count": null,
   "metadata": {},
   "outputs": [],
   "source": []
  },
  {
   "cell_type": "markdown",
   "metadata": {},
   "source": [
    "### Train-Test split and Training part"
   ]
  },
  {
   "cell_type": "code",
   "execution_count": 21,
   "metadata": {},
   "outputs": [],
   "source": [
    "predictors_list = ['aboveSAR','aboveUpperBB','belowLowerBB','normRSI','oversoldRSI','overboughtRSI',\n",
    "                   'aboveEMA5','aboveEMA10','aboveEMA15','aboveEMA20','aboveEMA30','aboveEMA40',\n",
    "                   'aboveEMA50','aboveEMA60','aboveEMA70','aboveEMA80','aboveEMA90','aboveEMA100']"
   ]
  },
  {
   "cell_type": "code",
   "execution_count": 22,
   "metadata": {},
   "outputs": [],
   "source": [
    "def splitting_and_training(df, predictors_list, test_size=0.3):\n",
    "    # __predictors__\n",
    "\n",
    "\n",
    "    # __features__\n",
    "    X = df[predictors_list].fillna(0).values\n",
    "    #X.tail()\n",
    "\n",
    "    # __targets__\n",
    "    y_cls = df.target_cls.fillna(0).values\n",
    "    #y_cls.tail(10)\n",
    "\n",
    "    # __train test split__\n",
    "    from sklearn.model_selection import train_test_split\n",
    "    y=y_cls\n",
    "    X_cls_train, X_cls_test, y_cls_train, y_cls_test = train_test_split(X, y, test_size=test_size, random_state=42, stratify=y)\n",
    "\n",
    "    print (X_cls_train.shape, y_cls_train.shape)\n",
    "    print (X_cls_test.shape, y_cls_test.shape)\n",
    "\n",
    "    return X_cls_train, X_cls_test, y_cls_train, y_cls_test"
   ]
  },
  {
   "cell_type": "code",
   "execution_count": null,
   "metadata": {},
   "outputs": [],
   "source": []
  },
  {
   "cell_type": "code",
   "execution_count": null,
   "metadata": {},
   "outputs": [],
   "source": []
  },
  {
   "cell_type": "code",
   "execution_count": null,
   "metadata": {},
   "outputs": [],
   "source": []
  },
  {
   "cell_type": "code",
   "execution_count": null,
   "metadata": {},
   "outputs": [],
   "source": []
  },
  {
   "cell_type": "code",
   "execution_count": null,
   "metadata": {},
   "outputs": [],
   "source": []
  },
  {
   "cell_type": "code",
   "execution_count": null,
   "metadata": {},
   "outputs": [],
   "source": []
  },
  {
   "cell_type": "code",
   "execution_count": null,
   "metadata": {},
   "outputs": [],
   "source": []
  },
  {
   "cell_type": "code",
   "execution_count": null,
   "metadata": {},
   "outputs": [],
   "source": []
  },
  {
   "cell_type": "code",
   "execution_count": null,
   "metadata": {},
   "outputs": [],
   "source": []
  },
  {
   "cell_type": "code",
   "execution_count": 23,
   "metadata": {},
   "outputs": [],
   "source": [
    "############ START OF MAIN SOURCE ###############"
   ]
  },
  {
   "cell_type": "code",
   "execution_count": 24,
   "metadata": {},
   "outputs": [
    {
     "name": "stderr",
     "output_type": "stream",
     "text": [
      "Using TensorFlow backend.\n",
      "/home/coil/anaconda3/envs/decision_trees/lib/python3.5/site-packages/tensorflow/python/framework/dtypes.py:523: FutureWarning: Passing (type, 1) or '1type' as a synonym of type is deprecated; in a future version of numpy, it will be understood as (type, (1,)) / '(1,)type'.\n",
      "  _np_qint8 = np.dtype([(\"qint8\", np.int8, 1)])\n",
      "/home/coil/anaconda3/envs/decision_trees/lib/python3.5/site-packages/tensorflow/python/framework/dtypes.py:524: FutureWarning: Passing (type, 1) or '1type' as a synonym of type is deprecated; in a future version of numpy, it will be understood as (type, (1,)) / '(1,)type'.\n",
      "  _np_quint8 = np.dtype([(\"quint8\", np.uint8, 1)])\n",
      "/home/coil/anaconda3/envs/decision_trees/lib/python3.5/site-packages/tensorflow/python/framework/dtypes.py:525: FutureWarning: Passing (type, 1) or '1type' as a synonym of type is deprecated; in a future version of numpy, it will be understood as (type, (1,)) / '(1,)type'.\n",
      "  _np_qint16 = np.dtype([(\"qint16\", np.int16, 1)])\n",
      "/home/coil/anaconda3/envs/decision_trees/lib/python3.5/site-packages/tensorflow/python/framework/dtypes.py:526: FutureWarning: Passing (type, 1) or '1type' as a synonym of type is deprecated; in a future version of numpy, it will be understood as (type, (1,)) / '(1,)type'.\n",
      "  _np_quint16 = np.dtype([(\"quint16\", np.uint16, 1)])\n",
      "/home/coil/anaconda3/envs/decision_trees/lib/python3.5/site-packages/tensorflow/python/framework/dtypes.py:527: FutureWarning: Passing (type, 1) or '1type' as a synonym of type is deprecated; in a future version of numpy, it will be understood as (type, (1,)) / '(1,)type'.\n",
      "  _np_qint32 = np.dtype([(\"qint32\", np.int32, 1)])\n",
      "/home/coil/anaconda3/envs/decision_trees/lib/python3.5/site-packages/tensorflow/python/framework/dtypes.py:532: FutureWarning: Passing (type, 1) or '1type' as a synonym of type is deprecated; in a future version of numpy, it will be understood as (type, (1,)) / '(1,)type'.\n",
      "  np_resource = np.dtype([(\"resource\", np.ubyte, 1)])\n"
     ]
    }
   ],
   "source": [
    "import numpy as np\n",
    "import torch\n",
    "from torch import nn\n",
    "from torch.autograd import Variable\n",
    "from sklearn.datasets import load_iris\n",
    "from sklearn.model_selection import train_test_split\n",
    "from sklearn.metrics import accuracy_score\n",
    "from keras.utils import to_categorical\n",
    "import torch.nn.functional as F"
   ]
  },
  {
   "cell_type": "code",
   "execution_count": 25,
   "metadata": {},
   "outputs": [],
   "source": [
    "class Model(nn.Module):\n",
    "    def __init__(self, input_dim):\n",
    "        super(Model, self).__init__()\n",
    "        self.layer1 = nn.Linear(input_dim,500)\n",
    "        self.layer2 = nn.Linear(500, 100)\n",
    "        self.layer3 = nn.Linear(100, 2)\n",
    "        self.drop = nn.Dropout(0.2)\n",
    "        \n",
    "    def forward(self, x):\n",
    "        x = F.relu(self.layer1(x))\n",
    "        x = self.drop(x)\n",
    "        x = F.relu(self.layer2(x))\n",
    "        x = self.drop(x)\n",
    "        x = F.softmax(self.layer3(x)) # To check with the loss function\n",
    "        return x"
   ]
  },
  {
   "cell_type": "markdown",
   "metadata": {},
   "source": [
    "### Features, Labels"
   ]
  },
  {
   "cell_type": "code",
   "execution_count": 26,
   "metadata": {},
   "outputs": [],
   "source": [
    "#features, labels = load_iris(return_X_y=True)"
   ]
  },
  {
   "cell_type": "code",
   "execution_count": 27,
   "metadata": {},
   "outputs": [],
   "source": [
    "#features[:3]"
   ]
  },
  {
   "cell_type": "code",
   "execution_count": 28,
   "metadata": {},
   "outputs": [],
   "source": [
    "#labels[:3]"
   ]
  },
  {
   "cell_type": "code",
   "execution_count": 29,
   "metadata": {},
   "outputs": [],
   "source": [
    "#features_train,features_test, labels_train, labels_test = train_test_split(features, labels, random_state=42, shuffle=True)"
   ]
  },
  {
   "cell_type": "code",
   "execution_count": 30,
   "metadata": {},
   "outputs": [
    {
     "name": "stdout",
     "output_type": "stream",
     "text": [
      "(143512, 18) (143512,)\n",
      "(61506, 18) (61506,)\n"
     ]
    }
   ],
   "source": [
    "# mine version\n",
    "# so far the variables are dataframes, not arrays or tensors\n",
    "features_train,features_test, labels_train, labels_test = splitting_and_training(df, predictors_list)"
   ]
  },
  {
   "cell_type": "code",
   "execution_count": 31,
   "metadata": {},
   "outputs": [
    {
     "data": {
      "text/plain": [
       "array([[-1.        , -1.        , -1.        ,  0.51821397, -1.        ,\n",
       "        -1.        , -1.        , -1.        , -1.        , -1.        ,\n",
       "         1.        ,  1.        ,  1.        ,  1.        ,  1.        ,\n",
       "         1.        ,  1.        ,  1.        ],\n",
       "       [-1.        , -1.        , -1.        ,  0.48747654, -1.        ,\n",
       "        -1.        ,  1.        ,  1.        ,  1.        ,  1.        ,\n",
       "        -1.        , -1.        , -1.        , -1.        , -1.        ,\n",
       "        -1.        , -1.        , -1.        ],\n",
       "       [-1.        , -1.        , -1.        ,  0.61345433, -1.        ,\n",
       "        -1.        , -1.        ,  1.        ,  1.        ,  1.        ,\n",
       "         1.        ,  1.        ,  1.        ,  1.        ,  1.        ,\n",
       "         1.        ,  1.        ,  1.        ]])"
      ]
     },
     "execution_count": 31,
     "metadata": {},
     "output_type": "execute_result"
    }
   ],
   "source": [
    "features_train[:3]"
   ]
  },
  {
   "cell_type": "code",
   "execution_count": 32,
   "metadata": {},
   "outputs": [
    {
     "data": {
      "text/plain": [
       "array([1, 0, 1])"
      ]
     },
     "execution_count": 32,
     "metadata": {},
     "output_type": "execute_result"
    }
   ],
   "source": [
    "labels_train[:3]"
   ]
  },
  {
   "cell_type": "code",
   "execution_count": 33,
   "metadata": {},
   "outputs": [],
   "source": [
    "# make data tensors\n",
    "features_train = Variable(torch.Tensor(features_train).float())\n",
    "features_test  = Variable(torch.Tensor(features_test).float())\n",
    "labels_train   = Variable(torch.Tensor(labels_train).long())\n",
    "labels_test    = Variable(torch.Tensor(labels_test).long())\n",
    "\n",
    "x_train = features_train\n",
    "y_train = labels_train"
   ]
  },
  {
   "cell_type": "code",
   "execution_count": null,
   "metadata": {},
   "outputs": [],
   "source": []
  },
  {
   "cell_type": "code",
   "execution_count": null,
   "metadata": {},
   "outputs": [],
   "source": []
  },
  {
   "cell_type": "code",
   "execution_count": null,
   "metadata": {},
   "outputs": [],
   "source": []
  },
  {
   "cell_type": "code",
   "execution_count": null,
   "metadata": {},
   "outputs": [],
   "source": []
  },
  {
   "cell_type": "code",
   "execution_count": null,
   "metadata": {},
   "outputs": [],
   "source": []
  },
  {
   "cell_type": "code",
   "execution_count": 34,
   "metadata": {},
   "outputs": [],
   "source": [
    "# Training\n",
    "model = Model(features_train.shape[1])\n",
    "optimizer = torch.optim.Adam(model.parameters(), lr=0.01)\n",
    "loss_fn = nn.CrossEntropyLoss()\n",
    "epochs = 200\n",
    "\n",
    "def print_(loss):\n",
    "    print (\"The loss calculated: \", loss)"
   ]
  },
  {
   "cell_type": "code",
   "execution_count": 35,
   "metadata": {},
   "outputs": [
    {
     "name": "stdout",
     "output_type": "stream",
     "text": [
      "Epoch # 1\n"
     ]
    },
    {
     "name": "stderr",
     "output_type": "stream",
     "text": [
      "/home/coil/anaconda3/envs/decision_trees/lib/python3.5/site-packages/ipykernel_launcher.py:14: UserWarning: Implicit dimension choice for softmax has been deprecated. Change the call to include dim=X as an argument.\n",
      "  \n"
     ]
    },
    {
     "name": "stdout",
     "output_type": "stream",
     "text": [
      "The loss calculated:  0.6852626800537109\n",
      "Epoch # 2\n",
      "The loss calculated:  0.6196837425231934\n",
      "Epoch # 3\n",
      "The loss calculated:  0.5974315404891968\n",
      "Epoch # 4\n",
      "The loss calculated:  0.6032636165618896\n",
      "Epoch # 5\n",
      "The loss calculated:  0.5984591245651245\n",
      "Epoch # 6\n",
      "The loss calculated:  0.5936050415039062\n",
      "Epoch # 7\n",
      "The loss calculated:  0.5932214260101318\n",
      "Epoch # 8\n",
      "The loss calculated:  0.5939201712608337\n",
      "Epoch # 9\n",
      "The loss calculated:  0.5932767391204834\n",
      "Epoch # 10\n",
      "The loss calculated:  0.5925727486610413\n",
      "Epoch # 11\n",
      "The loss calculated:  0.5921405553817749\n",
      "Epoch # 12\n",
      "The loss calculated:  0.5918112993240356\n",
      "Epoch # 13\n",
      "The loss calculated:  0.5916013121604919\n",
      "Epoch # 14\n",
      "The loss calculated:  0.5914506316184998\n",
      "Epoch # 15\n",
      "The loss calculated:  0.5913875699043274\n",
      "Epoch # 16\n",
      "The loss calculated:  0.5911760926246643\n",
      "Epoch # 17\n",
      "The loss calculated:  0.5910252928733826\n",
      "Epoch # 18\n",
      "The loss calculated:  0.5909638404846191\n",
      "Epoch # 19\n",
      "The loss calculated:  0.5907496809959412\n",
      "Epoch # 20\n",
      "The loss calculated:  0.590577244758606\n",
      "Epoch # 21\n",
      "The loss calculated:  0.5903176069259644\n",
      "Epoch # 22\n",
      "The loss calculated:  0.5901381373405457\n",
      "Epoch # 23\n",
      "The loss calculated:  0.5901848673820496\n",
      "Epoch # 24\n",
      "The loss calculated:  0.5900331139564514\n",
      "Epoch # 25\n",
      "The loss calculated:  0.5898510813713074\n",
      "Epoch # 26\n",
      "The loss calculated:  0.5898478031158447\n",
      "Epoch # 27\n",
      "The loss calculated:  0.5897731781005859\n",
      "Epoch # 28\n",
      "The loss calculated:  0.5896097421646118\n",
      "Epoch # 29\n",
      "The loss calculated:  0.5895531177520752\n",
      "Epoch # 30\n",
      "The loss calculated:  0.589390754699707\n",
      "Epoch # 31\n",
      "The loss calculated:  0.5893135070800781\n",
      "Epoch # 32\n",
      "The loss calculated:  0.5893893837928772\n",
      "Epoch # 33\n",
      "The loss calculated:  0.589209794998169\n",
      "Epoch # 34\n",
      "The loss calculated:  0.5892881751060486\n",
      "Epoch # 35\n",
      "The loss calculated:  0.5890778303146362\n",
      "Epoch # 36\n",
      "The loss calculated:  0.589131772518158\n",
      "Epoch # 37\n",
      "The loss calculated:  0.5890365839004517\n",
      "Epoch # 38\n",
      "The loss calculated:  0.588974118232727\n",
      "Epoch # 39\n",
      "The loss calculated:  0.588894784450531\n",
      "Epoch # 40\n",
      "The loss calculated:  0.5890860557556152\n",
      "Epoch # 41\n",
      "The loss calculated:  0.5889469981193542\n",
      "Epoch # 42\n",
      "The loss calculated:  0.5888873338699341\n",
      "Epoch # 43\n",
      "The loss calculated:  0.5888822078704834\n",
      "Epoch # 44\n",
      "The loss calculated:  0.5887717604637146\n",
      "Epoch # 45\n",
      "The loss calculated:  0.5888415575027466\n",
      "Epoch # 46\n",
      "The loss calculated:  0.5888179540634155\n",
      "Epoch # 47\n",
      "The loss calculated:  0.588800311088562\n",
      "Epoch # 48\n",
      "The loss calculated:  0.5887902975082397\n",
      "Epoch # 49\n",
      "The loss calculated:  0.5887678265571594\n",
      "Epoch # 50\n",
      "The loss calculated:  0.5887538194656372\n",
      "Epoch # 51\n",
      "The loss calculated:  0.5886729955673218\n",
      "Epoch # 52\n",
      "The loss calculated:  0.5886036157608032\n",
      "Epoch # 53\n",
      "The loss calculated:  0.5884843468666077\n",
      "Epoch # 54\n",
      "The loss calculated:  0.5885801315307617\n",
      "Epoch # 55\n",
      "The loss calculated:  0.5885050296783447\n",
      "Epoch # 56\n",
      "The loss calculated:  0.5884559750556946\n",
      "Epoch # 57\n",
      "The loss calculated:  0.5884255766868591\n",
      "Epoch # 58\n",
      "The loss calculated:  0.5885076522827148\n",
      "Epoch # 59\n",
      "The loss calculated:  0.588362455368042\n",
      "Epoch # 60\n",
      "The loss calculated:  0.5883201360702515\n",
      "Epoch # 61\n",
      "The loss calculated:  0.5883517265319824\n",
      "Epoch # 62\n",
      "The loss calculated:  0.5883136987686157\n",
      "Epoch # 63\n",
      "The loss calculated:  0.5883266925811768\n",
      "Epoch # 64\n",
      "The loss calculated:  0.5882496237754822\n",
      "Epoch # 65\n",
      "The loss calculated:  0.5882769227027893\n",
      "Epoch # 66\n",
      "The loss calculated:  0.5883277654647827\n",
      "Epoch # 67\n",
      "The loss calculated:  0.5882797241210938\n",
      "Epoch # 68\n",
      "The loss calculated:  0.5881803631782532\n",
      "Epoch # 69\n",
      "The loss calculated:  0.5882489681243896\n",
      "Epoch # 70\n",
      "The loss calculated:  0.5883034467697144\n",
      "Epoch # 71\n",
      "The loss calculated:  0.5882138609886169\n",
      "Epoch # 72\n",
      "The loss calculated:  0.5882108807563782\n",
      "Epoch # 73\n",
      "The loss calculated:  0.5882629156112671\n",
      "Epoch # 74\n",
      "The loss calculated:  0.5881277322769165\n",
      "Epoch # 75\n",
      "The loss calculated:  0.5882425308227539\n",
      "Epoch # 76\n",
      "The loss calculated:  0.5882118344306946\n",
      "Epoch # 77\n",
      "The loss calculated:  0.5881311893463135\n",
      "Epoch # 78\n",
      "The loss calculated:  0.5881641507148743\n",
      "Epoch # 79\n",
      "The loss calculated:  0.588144838809967\n",
      "Epoch # 80\n",
      "The loss calculated:  0.588162899017334\n",
      "Epoch # 81\n",
      "The loss calculated:  0.588228166103363\n",
      "Epoch # 82\n",
      "The loss calculated:  0.588064968585968\n",
      "Epoch # 83\n",
      "The loss calculated:  0.5880871415138245\n",
      "Epoch # 84\n",
      "The loss calculated:  0.5880597233772278\n",
      "Epoch # 85\n",
      "The loss calculated:  0.5881938338279724\n",
      "Epoch # 86\n",
      "The loss calculated:  0.5881224870681763\n",
      "Epoch # 87\n",
      "The loss calculated:  0.5880898237228394\n",
      "Epoch # 88\n",
      "The loss calculated:  0.5881146788597107\n",
      "Epoch # 89\n",
      "The loss calculated:  0.5880600214004517\n",
      "Epoch # 90\n",
      "The loss calculated:  0.5880478024482727\n",
      "Epoch # 91\n",
      "The loss calculated:  0.5880952477455139\n",
      "Epoch # 92\n",
      "The loss calculated:  0.588063657283783\n",
      "Epoch # 93\n",
      "The loss calculated:  0.5881605744361877\n",
      "Epoch # 94\n",
      "The loss calculated:  0.5880804061889648\n",
      "Epoch # 95\n",
      "The loss calculated:  0.5880833864212036\n",
      "Epoch # 96\n",
      "The loss calculated:  0.5880810618400574\n",
      "Epoch # 97\n",
      "The loss calculated:  0.5880280137062073\n",
      "Epoch # 98\n",
      "The loss calculated:  0.5880589485168457\n",
      "Epoch # 99\n",
      "The loss calculated:  0.5879496335983276\n",
      "Epoch # 100\n",
      "The loss calculated:  0.588056743144989\n",
      "Epoch # 101\n",
      "The loss calculated:  0.5880515575408936\n",
      "Epoch # 102\n",
      "The loss calculated:  0.5880623459815979\n",
      "Epoch # 103\n",
      "The loss calculated:  0.5880619883537292\n",
      "Epoch # 104\n",
      "The loss calculated:  0.588136613368988\n",
      "Epoch # 105\n",
      "The loss calculated:  0.5880117416381836\n",
      "Epoch # 106\n",
      "The loss calculated:  0.5880072712898254\n",
      "Epoch # 107\n",
      "The loss calculated:  0.588105320930481\n",
      "Epoch # 108\n",
      "The loss calculated:  0.5880165696144104\n",
      "Epoch # 109\n",
      "The loss calculated:  0.5879802703857422\n",
      "Epoch # 110\n",
      "The loss calculated:  0.5880212187767029\n",
      "Epoch # 111\n",
      "The loss calculated:  0.5879640579223633\n",
      "Epoch # 112\n",
      "The loss calculated:  0.5879766941070557\n",
      "Epoch # 113\n",
      "The loss calculated:  0.5879186391830444\n",
      "Epoch # 114\n",
      "The loss calculated:  0.5880656242370605\n",
      "Epoch # 115\n",
      "The loss calculated:  0.5880083441734314\n",
      "Epoch # 116\n",
      "The loss calculated:  0.5878908038139343\n",
      "Epoch # 117\n",
      "The loss calculated:  0.5879680514335632\n",
      "Epoch # 118\n",
      "The loss calculated:  0.5878567695617676\n",
      "Epoch # 119\n",
      "The loss calculated:  0.5880012512207031\n",
      "Epoch # 120\n",
      "The loss calculated:  0.5879937410354614\n",
      "Epoch # 121\n",
      "The loss calculated:  0.5879881978034973\n",
      "Epoch # 122\n",
      "The loss calculated:  0.5879710912704468\n",
      "Epoch # 123\n",
      "The loss calculated:  0.5880217552185059\n",
      "Epoch # 124\n",
      "The loss calculated:  0.5878984928131104\n",
      "Epoch # 125\n",
      "The loss calculated:  0.5879395008087158\n",
      "Epoch # 126\n",
      "The loss calculated:  0.5879430174827576\n",
      "Epoch # 127\n",
      "The loss calculated:  0.587976336479187\n",
      "Epoch # 128\n",
      "The loss calculated:  0.5880103707313538\n",
      "Epoch # 129\n",
      "The loss calculated:  0.5879493951797485\n",
      "Epoch # 130\n",
      "The loss calculated:  0.5878390073776245\n",
      "Epoch # 131\n",
      "The loss calculated:  0.5879811644554138\n",
      "Epoch # 132\n",
      "The loss calculated:  0.5879198312759399\n",
      "Epoch # 133\n",
      "The loss calculated:  0.5878471732139587\n",
      "Epoch # 134\n",
      "The loss calculated:  0.5878899097442627\n",
      "Epoch # 135\n",
      "The loss calculated:  0.5879516005516052\n",
      "Epoch # 136\n",
      "The loss calculated:  0.5879878997802734\n",
      "Epoch # 137\n",
      "The loss calculated:  0.5878577828407288\n",
      "Epoch # 138\n",
      "The loss calculated:  0.5879694223403931\n",
      "Epoch # 139\n",
      "The loss calculated:  0.5879045724868774\n",
      "Epoch # 140\n",
      "The loss calculated:  0.5878835916519165\n",
      "Epoch # 141\n",
      "The loss calculated:  0.5878024697303772\n",
      "Epoch # 142\n",
      "The loss calculated:  0.5878760814666748\n",
      "Epoch # 143\n",
      "The loss calculated:  0.5878683924674988\n",
      "Epoch # 144\n",
      "The loss calculated:  0.5878115892410278\n",
      "Epoch # 145\n",
      "The loss calculated:  0.5878982543945312\n",
      "Epoch # 146\n",
      "The loss calculated:  0.5878543853759766\n",
      "Epoch # 147\n",
      "The loss calculated:  0.5878112316131592\n",
      "Epoch # 148\n",
      "The loss calculated:  0.5878180265426636\n",
      "Epoch # 149\n",
      "The loss calculated:  0.5878328084945679\n",
      "Epoch # 150\n",
      "The loss calculated:  0.5878684520721436\n",
      "Epoch # 151\n",
      "The loss calculated:  0.5877980589866638\n",
      "Epoch # 152\n",
      "The loss calculated:  0.5877980589866638\n",
      "Epoch # 153\n",
      "The loss calculated:  0.5878441333770752\n",
      "Epoch # 154\n",
      "The loss calculated:  0.587829053401947\n",
      "Epoch # 155\n",
      "The loss calculated:  0.5877383351325989\n",
      "Epoch # 156\n",
      "The loss calculated:  0.5877609848976135\n",
      "Epoch # 157\n",
      "The loss calculated:  0.5878120064735413\n",
      "Epoch # 158\n",
      "The loss calculated:  0.5877755284309387\n",
      "Epoch # 159\n",
      "The loss calculated:  0.5877326726913452\n",
      "Epoch # 160\n",
      "The loss calculated:  0.5876883268356323\n",
      "Epoch # 161\n",
      "The loss calculated:  0.5876978039741516\n",
      "Epoch # 162\n",
      "The loss calculated:  0.5877993106842041\n",
      "Epoch # 163\n",
      "The loss calculated:  0.5878299474716187\n",
      "Epoch # 164\n",
      "The loss calculated:  0.5877888798713684\n",
      "Epoch # 165\n",
      "The loss calculated:  0.5877939462661743\n",
      "Epoch # 166\n",
      "The loss calculated:  0.5877695083618164\n",
      "Epoch # 167\n",
      "The loss calculated:  0.5878205299377441\n",
      "Epoch # 168\n",
      "The loss calculated:  0.5878461003303528\n",
      "Epoch # 169\n",
      "The loss calculated:  0.5877744555473328\n",
      "Epoch # 170\n",
      "The loss calculated:  0.5877441167831421\n",
      "Epoch # 171\n",
      "The loss calculated:  0.5876732468605042\n",
      "Epoch # 172\n",
      "The loss calculated:  0.5877363085746765\n",
      "Epoch # 173\n",
      "The loss calculated:  0.5876619219779968\n",
      "Epoch # 174\n",
      "The loss calculated:  0.5876783132553101\n",
      "Epoch # 175\n",
      "The loss calculated:  0.5876505970954895\n",
      "Epoch # 176\n",
      "The loss calculated:  0.5876640677452087\n",
      "Epoch # 177\n",
      "The loss calculated:  0.5876885652542114\n",
      "Epoch # 178\n",
      "The loss calculated:  0.5875648260116577\n",
      "Epoch # 179\n",
      "The loss calculated:  0.5877152681350708\n",
      "Epoch # 180\n",
      "The loss calculated:  0.5876662135124207\n",
      "Epoch # 181\n",
      "The loss calculated:  0.58750981092453\n",
      "Epoch # 182\n",
      "The loss calculated:  0.5876091718673706\n",
      "Epoch # 183\n",
      "The loss calculated:  0.5876247882843018\n",
      "Epoch # 184\n",
      "The loss calculated:  0.5876365900039673\n",
      "Epoch # 185\n",
      "The loss calculated:  0.5875073671340942\n",
      "Epoch # 186\n",
      "The loss calculated:  0.5875459313392639\n",
      "Epoch # 187\n",
      "The loss calculated:  0.5875638127326965\n",
      "Epoch # 188\n",
      "The loss calculated:  0.5876525044441223\n",
      "Epoch # 189\n",
      "The loss calculated:  0.5875669121742249\n",
      "Epoch # 190\n",
      "The loss calculated:  0.5876715779304504\n",
      "Epoch # 191\n",
      "The loss calculated:  0.5875247120857239\n",
      "Epoch # 192\n",
      "The loss calculated:  0.5875025987625122\n",
      "Epoch # 193\n",
      "The loss calculated:  0.5875788331031799\n",
      "Epoch # 194\n",
      "The loss calculated:  0.5875170826911926\n",
      "Epoch # 195\n",
      "The loss calculated:  0.5874947309494019\n",
      "Epoch # 196\n",
      "The loss calculated:  0.5875043869018555\n",
      "Epoch # 197\n",
      "The loss calculated:  0.5876345038414001\n",
      "Epoch # 198\n",
      "The loss calculated:  0.5874828100204468\n",
      "Epoch # 199\n",
      "The loss calculated:  0.587460458278656\n",
      "Epoch # 200\n",
      "The loss calculated:  0.5875118374824524\n"
     ]
    }
   ],
   "source": [
    "# Not using dataloader\n",
    "#######x_train, y_train = Variable(torch.from_numpy(features_train)).float(), Variable(torch.from_numpy(labels_train)).long()\n",
    "for epoch in range(1, epochs+1):\n",
    "    print (\"Epoch #\",epoch)\n",
    "    y_pred = model(x_train)\n",
    "    loss = loss_fn(y_pred, y_train)\n",
    "    print_(loss.item())\n",
    "    \n",
    "    # Zero gradients\n",
    "    optimizer.zero_grad()\n",
    "    loss.backward() # Gradients\n",
    "    optimizer.step() # Update"
   ]
  },
  {
   "cell_type": "code",
   "execution_count": 36,
   "metadata": {},
   "outputs": [
    {
     "name": "stderr",
     "output_type": "stream",
     "text": [
      "/home/coil/anaconda3/envs/decision_trees/lib/python3.5/site-packages/ipykernel_launcher.py:14: UserWarning: Implicit dimension choice for softmax has been deprecated. Change the call to include dim=X as an argument.\n",
      "  \n"
     ]
    }
   ],
   "source": [
    "# Prediction\n",
    "######x_test = Variable(torch.from_numpy(features_test)).float()\n",
    "x_test = features_test\n",
    "\n",
    "pred = model(x_test)"
   ]
  },
  {
   "cell_type": "code",
   "execution_count": 37,
   "metadata": {},
   "outputs": [],
   "source": [
    "pred = pred.detach().numpy()"
   ]
  },
  {
   "cell_type": "code",
   "execution_count": 38,
   "metadata": {},
   "outputs": [
    {
     "data": {
      "text/plain": [
       "array([[6.3500744e-07, 9.9999940e-01],\n",
       "       [1.2752749e-27, 1.0000000e+00],\n",
       "       [9.4866045e-02, 9.0513396e-01],\n",
       "       ...,\n",
       "       [2.0408326e-05, 9.9997962e-01],\n",
       "       [1.8100294e-05, 9.9998188e-01],\n",
       "       [2.7623303e-16, 1.0000000e+00]], dtype=float32)"
      ]
     },
     "execution_count": 38,
     "metadata": {},
     "output_type": "execute_result"
    }
   ],
   "source": [
    "pred"
   ]
  },
  {
   "cell_type": "markdown",
   "metadata": {},
   "source": [
    "# ACCURACY"
   ]
  },
  {
   "cell_type": "code",
   "execution_count": 39,
   "metadata": {},
   "outputs": [
    {
     "name": "stdout",
     "output_type": "stream",
     "text": [
      "The accuracy is 0.6940298507462687\n"
     ]
    }
   ],
   "source": [
    "print (\"The accuracy is\", accuracy_score(labels_test, np.argmax(pred, axis=1)))"
   ]
  },
  {
   "cell_type": "code",
   "execution_count": 40,
   "metadata": {},
   "outputs": [
    {
     "name": "stderr",
     "output_type": "stream",
     "text": [
      "/home/coil/anaconda3/envs/decision_trees/lib/python3.5/site-packages/ipykernel_launcher.py:14: UserWarning: Implicit dimension choice for softmax has been deprecated. Change the call to include dim=X as an argument.\n",
      "  \n"
     ]
    },
    {
     "data": {
      "text/plain": [
       "1"
      ]
     },
     "execution_count": 40,
     "metadata": {},
     "output_type": "execute_result"
    }
   ],
   "source": [
    "# Checking for first value\n",
    "np.argmax(model(x_test[0]).detach().numpy(), axis=0)"
   ]
  },
  {
   "cell_type": "code",
   "execution_count": 41,
   "metadata": {},
   "outputs": [
    {
     "data": {
      "text/plain": [
       "tensor(1)"
      ]
     },
     "execution_count": 41,
     "metadata": {},
     "output_type": "execute_result"
    }
   ],
   "source": [
    "labels_test[0]"
   ]
  },
  {
   "cell_type": "code",
   "execution_count": 42,
   "metadata": {},
   "outputs": [
    {
     "name": "stderr",
     "output_type": "stream",
     "text": [
      "/home/coil/anaconda3/envs/decision_trees/lib/python3.5/site-packages/torch/serialization.py:402: UserWarning: Couldn't retrieve source code for container of type Model. It won't be checked for correctness upon loading.\n",
      "  \"type \" + obj.__name__ + \". It won't be checked \"\n"
     ]
    }
   ],
   "source": [
    "torch.save(model, \"iris-pytorch.pkl\")"
   ]
  },
  {
   "cell_type": "code",
   "execution_count": 43,
   "metadata": {},
   "outputs": [],
   "source": [
    "saved_model = torch.load(\"iris-pytorch.pkl\")"
   ]
  },
  {
   "cell_type": "code",
   "execution_count": 44,
   "metadata": {},
   "outputs": [
    {
     "name": "stderr",
     "output_type": "stream",
     "text": [
      "/home/coil/anaconda3/envs/decision_trees/lib/python3.5/site-packages/ipykernel_launcher.py:14: UserWarning: Implicit dimension choice for softmax has been deprecated. Change the call to include dim=X as an argument.\n",
      "  \n"
     ]
    },
    {
     "data": {
      "text/plain": [
       "1"
      ]
     },
     "execution_count": 44,
     "metadata": {},
     "output_type": "execute_result"
    }
   ],
   "source": [
    "np.argmax(saved_model(x_test[0]).detach().numpy(), axis=0)"
   ]
  },
  {
   "cell_type": "code",
   "execution_count": 45,
   "metadata": {},
   "outputs": [
    {
     "data": {
      "text/plain": [
       "tensor([-1.0000, -1.0000, -1.0000,  0.6179, -1.0000, -1.0000, -1.0000,  1.0000,\n",
       "         1.0000,  1.0000,  1.0000,  1.0000,  1.0000,  1.0000,  1.0000,  1.0000,\n",
       "         1.0000,  1.0000])"
      ]
     },
     "execution_count": 45,
     "metadata": {},
     "output_type": "execute_result"
    }
   ],
   "source": [
    "x_test[0]"
   ]
  },
  {
   "cell_type": "code",
   "execution_count": 46,
   "metadata": {},
   "outputs": [
    {
     "name": "stdout",
     "output_type": "stream",
     "text": [
      "tensor([-1.0000, -1.0000, -1.0000,  0.6179, -1.0000, -1.0000, -1.0000,  1.0000,\n",
      "         1.0000,  1.0000,  1.0000,  1.0000,  1.0000,  1.0000,  1.0000,  1.0000,\n",
      "         1.0000,  1.0000])\n",
      "prediction 1\n",
      "tensor([-1.0000,  1.0000, -1.0000,  0.7082, -1.0000,  1.0000,  1.0000,  1.0000,\n",
      "         1.0000,  1.0000,  1.0000,  1.0000,  1.0000,  1.0000,  1.0000,  1.0000,\n",
      "         1.0000,  1.0000])\n",
      "prediction 1\n",
      "tensor([ 1.0000, -1.0000, -1.0000,  0.5687, -1.0000, -1.0000,  1.0000,  1.0000,\n",
      "         1.0000,  1.0000,  1.0000,  1.0000,  1.0000,  1.0000,  1.0000,  1.0000,\n",
      "         1.0000,  1.0000])\n",
      "prediction 1\n"
     ]
    },
    {
     "name": "stderr",
     "output_type": "stream",
     "text": [
      "/home/coil/anaconda3/envs/decision_trees/lib/python3.5/site-packages/ipykernel_launcher.py:14: UserWarning: Implicit dimension choice for softmax has been deprecated. Change the call to include dim=X as an argument.\n",
      "  \n"
     ]
    }
   ],
   "source": [
    "for i in x_test[:3]:\n",
    "    print(i)\n",
    "    prediction = np.argmax(saved_model(i).detach().numpy(), axis=0)\n",
    "    print('prediction', prediction)"
   ]
  },
  {
   "cell_type": "code",
   "execution_count": null,
   "metadata": {},
   "outputs": [],
   "source": []
  },
  {
   "cell_type": "code",
   "execution_count": 47,
   "metadata": {},
   "outputs": [],
   "source": [
    "############ END OF MAIN SOURCE ###############"
   ]
  },
  {
   "cell_type": "code",
   "execution_count": null,
   "metadata": {},
   "outputs": [],
   "source": []
  },
  {
   "cell_type": "code",
   "execution_count": null,
   "metadata": {},
   "outputs": [],
   "source": []
  },
  {
   "cell_type": "markdown",
   "metadata": {},
   "source": [
    "## PREDICTION ON UNKNOWN DATA"
   ]
  },
  {
   "cell_type": "code",
   "execution_count": 48,
   "metadata": {},
   "outputs": [],
   "source": [
    "#ticker='BP'\n",
    "#ticker='ABBV'\n",
    "#ticker='GILD'\n",
    "#ticker='NGG'\n",
    "ticker='BPY'"
   ]
  },
  {
   "cell_type": "code",
   "execution_count": 49,
   "metadata": {},
   "outputs": [],
   "source": [
    "def plot_stock_prediction(df, ticker):\n",
    "    # plot  values and significant levels\n",
    "    plt.figure(figsize=(20,7))\n",
    "    plt.title('Predictive model ' + str(ticker))\n",
    "    plt.plot(df['Date'], df['Adj Close'], label='High', alpha=0.2)\n",
    "\n",
    "    plt.plot(df['Date'], df['EMA10'], label='EMA10', alpha=0.2)\n",
    "    plt.plot(df['Date'], df['EMA20'], label='EMA20', alpha=0.2)\n",
    "    plt.plot(df['Date'], df['EMA30'], label='EMA30', alpha=0.2)\n",
    "    plt.plot(df['Date'], df['EMA40'], label='EMA40', alpha=0.2)\n",
    "    plt.plot(df['Date'], df['EMA50'], label='EMA50', alpha=0.2)\n",
    "    plt.plot(df['Date'], df['EMA100'], label='EMA100', alpha=0.2)\n",
    "    plt.plot(df['Date'], df['EMA150'], label='EMA150', alpha=0.99)\n",
    "    plt.plot(df['Date'], df['EMA200'], label='EMA200', alpha=0.2)\n",
    "\n",
    "\n",
    "    plt.scatter(df['Date'], df['Buy']*df['Adj Close'], label='Buy', marker='^', color='magenta', alpha=0.15)\n",
    "    #lt.scatter(df.index, df['sell_sig'], label='Sell', marker='v')\n",
    "\n",
    "    plt.legend()\n",
    "\n",
    "    plt.show()\n",
    "\n",
    "    return None   "
   ]
  },
  {
   "cell_type": "code",
   "execution_count": 50,
   "metadata": {},
   "outputs": [
    {
     "name": "stdout",
     "output_type": "stream",
     "text": [
      "connected to yahoo\n"
     ]
    }
   ],
   "source": [
    "new_df = get_data(ticker)"
   ]
  },
  {
   "cell_type": "code",
   "execution_count": 51,
   "metadata": {},
   "outputs": [],
   "source": [
    "new_df = compute_technical_indicators(new_df)"
   ]
  },
  {
   "cell_type": "code",
   "execution_count": 52,
   "metadata": {},
   "outputs": [],
   "source": [
    "new_df = compute_features(new_df)"
   ]
  },
  {
   "cell_type": "code",
   "execution_count": 53,
   "metadata": {},
   "outputs": [],
   "source": [
    "new_df=define_target_condition(new_df)"
   ]
  },
  {
   "cell_type": "code",
   "execution_count": 54,
   "metadata": {},
   "outputs": [],
   "source": [
    "saved_model = torch.load(\"iris-pytorch.pkl\")"
   ]
  },
  {
   "cell_type": "code",
   "execution_count": 55,
   "metadata": {},
   "outputs": [],
   "source": [
    "def predict_timeseries(df):\n",
    "    \n",
    "    # making sure we have good dimensions\n",
    "    # column will be rewritten later\n",
    "    df['Buy'] = df['target_cls']\n",
    "    \n",
    "    for i in range(len(df)):\n",
    "        X_cls_valid = [[df['aboveSAR'][i],df['aboveUpperBB'][i],df['belowLowerBB'][i],\n",
    "                        df['normRSI'][i],df['oversoldRSI'][i],df['overboughtRSI'][i],\n",
    "                        df['aboveEMA5'][i],df['aboveEMA10'][i],df['aboveEMA15'][i],df['aboveEMA20'][i],\n",
    "                        df['aboveEMA30'][i],df['aboveEMA40'][i],df['aboveEMA50'][i],\n",
    "                        df['aboveEMA60'][i],df['aboveEMA70'][i],df['aboveEMA80'][i],df['aboveEMA90'][i],\n",
    "                        df['aboveEMA100'][i]]]    \n",
    "\n",
    "        x_test = Variable(torch.Tensor(X_cls_valid).float())    \n",
    "        \n",
    "        #####print('x_test',x_test)\n",
    "        \n",
    "\n",
    "        #####print('i',i)\n",
    "        prediction = np.argmax(saved_model(x_test[0]).detach().numpy(), axis=0)\n",
    "        #####print('prediction', prediction)        \n",
    "  \n",
    "    \n",
    "        df['Buy'][i] = prediction\n",
    "\n",
    "\n",
    "    print(df.head())    \n",
    "        \n",
    "    return df"
   ]
  },
  {
   "cell_type": "code",
   "execution_count": null,
   "metadata": {},
   "outputs": [],
   "source": []
  },
  {
   "cell_type": "code",
   "execution_count": null,
   "metadata": {},
   "outputs": [],
   "source": []
  },
  {
   "cell_type": "code",
   "execution_count": null,
   "metadata": {},
   "outputs": [],
   "source": []
  },
  {
   "cell_type": "code",
   "execution_count": null,
   "metadata": {},
   "outputs": [],
   "source": []
  },
  {
   "cell_type": "code",
   "execution_count": null,
   "metadata": {},
   "outputs": [],
   "source": []
  },
  {
   "cell_type": "code",
   "execution_count": 56,
   "metadata": {},
   "outputs": [
    {
     "name": "stderr",
     "output_type": "stream",
     "text": [
      "/home/coil/anaconda3/envs/decision_trees/lib/python3.5/site-packages/ipykernel_launcher.py:14: UserWarning: Implicit dimension choice for softmax has been deprecated. Change the call to include dim=X as an argument.\n",
      "  \n"
     ]
    },
    {
     "name": "stdout",
     "output_type": "stream",
     "text": [
      "        Date       High        Low       Open      Close    Volume  Adj Close       EMA5  EMA10  EMA15  ...  aboveEMA100  aboveEMA150  aboveEMA200  aboveUpperBB  belowLowerBB  aboveSAR  oversoldRSI  overboughtRSI  target_cls  Buy\n",
      "0 2013-03-22  25.000000  21.000000  21.000000  22.030001  314200.0  13.484918   0.000000    0.0    0.0  ...           -1           -1           -1            -1            -1        -1           -1             -1           1    1\n",
      "1 2013-03-25  22.250000  21.170000  22.090000  21.639999  125000.0  13.246187   0.000000    0.0    0.0  ...           -1           -1           -1            -1            -1        -1           -1             -1           1    1\n",
      "2 2013-03-26  21.799999  21.129999  21.500000  21.280001  602800.0  13.025826   0.000000    0.0    0.0  ...           -1           -1           -1            -1            -1        -1           -1             -1           1    1\n",
      "3 2013-03-27  21.959999  21.129999  21.280001  21.360001  628600.0  13.074796   0.000000    0.0    0.0  ...           -1           -1           -1            -1            -1        -1           -1             -1           1    1\n",
      "4 2013-03-28  21.719999  21.230000  21.389999  21.260000  408700.0  13.013583  13.169062    0.0    0.0  ...           -1           -1           -1            -1            -1        -1           -1             -1           1    1\n",
      "\n",
      "[5 rows x 48 columns]\n"
     ]
    }
   ],
   "source": [
    "new_df = predict_timeseries(new_df)"
   ]
  },
  {
   "cell_type": "code",
   "execution_count": 57,
   "metadata": {},
   "outputs": [
    {
     "data": {
      "image/png": "[encoded data removed]",
      "text/plain": [
       "<Figure size 1440x504 with 1 Axes>"
      ]
     },
     "metadata": {
      "needs_background": "light"
     },
     "output_type": "display_data"
    }
   ],
   "source": [
    "plot_stock_prediction(new_df, ticker)"
   ]
  },
  {
   "cell_type": "code",
   "execution_count": 58,
   "metadata": {},
   "outputs": [],
   "source": [
    "# zoom in on the data\n",
    "temp_df = new_df[-700:]"
   ]
  },
  {
   "cell_type": "code",
   "execution_count": 59,
   "metadata": {},
   "outputs": [
    {
     "data": {
      "image/png": "[encoded data removed]",
      "text/plain": [
       "<Figure size 1440x504 with 1 Axes>"
      ]
     },
     "metadata": {
      "needs_background": "light"
     },
     "output_type": "display_data"
    }
   ],
   "source": [
    "plot_stock_prediction(temp_df, ticker)"
   ]
  },
  {
   "cell_type": "code",
   "execution_count": null,
   "metadata": {},
   "outputs": [],
   "source": []
  },
  {
   "cell_type": "code",
   "execution_count": null,
   "metadata": {},
   "outputs": [],
   "source": []
  }
 ],
 "metadata": {
  "kernelspec": {
   "display_name": "Python 3",
   "language": "python",
   "name": "python3"
  },
  "language_info": {
   "codemirror_mode": {
    "name": "ipython",
    "version": 3
   },
   "file_extension": ".py",
   "mimetype": "text/x-python",
   "name": "python",
   "nbconvert_exporter": "python",
   "pygments_lexer": "ipython3",
   "version": "3.5.6"
  }
 },
 "nbformat": 4,
 "nbformat_minor": 4
}
