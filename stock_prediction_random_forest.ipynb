{
 "cells": [
  {
   "cell_type": "code",
   "execution_count": null,
   "metadata": {},
   "outputs": [],
   "source": [
    "# source:\n",
    "# https://blog.quantinsti.com/decision-tree/\n",
    "\n",
    "# https://blog.quantinsti.com/parabolic-sar/"
   ]
  },
  {
   "cell_type": "code",
   "execution_count": null,
   "metadata": {},
   "outputs": [],
   "source": [
    "!which python3"
   ]
  },
  {
   "cell_type": "code",
   "execution_count": null,
   "metadata": {},
   "outputs": [],
   "source": [
    "import talib as ta"
   ]
  },
  {
   "cell_type": "code",
   "execution_count": null,
   "metadata": {},
   "outputs": [],
   "source": [
    "import pandas as pd\n",
    "\n",
    "#suppress 'SettingWithCopy' warning\n",
    "pd.set_option('mode.chained_assignment', None)"
   ]
  },
  {
   "cell_type": "code",
   "execution_count": null,
   "metadata": {},
   "outputs": [],
   "source": [
    "#!pip install pandas_datareader\n",
    "#!pip3 install seaborn\n",
    "import seaborn as sns"
   ]
  },
  {
   "cell_type": "code",
   "execution_count": null,
   "metadata": {},
   "outputs": [],
   "source": [
    "from IPython.core.display import display, HTML\n",
    "display(HTML(\"<style>.container { width:100% !important; }</style>\"))\n",
    "\n",
    "# ___library_import_statements___\n",
    "import pandas as pd\n",
    "\n",
    "# for pandas_datareader, otherwise it might have issues, sometimes there is some version mismatch\n",
    "pd.core.common.is_list_like = pd.api.types.is_list_like\n",
    "\n",
    "# make pandas to print dataframes nicely\n",
    "pd.set_option('expand_frame_repr', False)  \n",
    "\n",
    "import pandas_datareader.data as web\n",
    "import numpy as np\n",
    "import matplotlib.pyplot as plt\n",
    "import datetime\n",
    "import time\n",
    "\n",
    "#newest yahoo API \n",
    "import yfinance as yahoo_finance\n",
    "\n",
    "#optional \n",
    "#yahoo_finance.pdr_override()\n",
    "\n",
    "%matplotlib inline"
   ]
  },
  {
   "cell_type": "code",
   "execution_count": null,
   "metadata": {},
   "outputs": [],
   "source": [
    "import talib as ta\n",
    "import numpy as np\n",
    "\n",
    "import matplotlib.pyplot as plt\n",
    "\n",
    "# was giving me some warnings\n",
    "from pandas.plotting import register_matplotlib_converters\n",
    "register_matplotlib_converters()"
   ]
  },
  {
   "cell_type": "code",
   "execution_count": null,
   "metadata": {},
   "outputs": [],
   "source": [
    "# ___variables___\n",
    "ticker = 'AAPL'\n",
    "#ticker = 'TSLA'\n",
    "#ticker = 'FB'\n",
    "#ticker = 'MSFT'\n",
    "#ticker = 'NFLX'\n",
    "#ticker = 'GOOGL'\n",
    "#ticker = 'BIDU'\n",
    "#ticker = 'AMZN'\n",
    "ticker = 'IBM'\n",
    "\n",
    "start_time = datetime.datetime(1980, 1, 1)\n",
    "#end_time = datetime.datetime(2019, 1, 20)\n",
    "end_time = datetime.datetime.now().date().isoformat()         # today"
   ]
  },
  {
   "cell_type": "markdown",
   "metadata": {},
   "source": [
    "# --- FUNCTION DEFINITIONS ---"
   ]
  },
  {
   "cell_type": "code",
   "execution_count": null,
   "metadata": {},
   "outputs": [],
   "source": [
    "\n",
    "def get_data(ticker):\n",
    "    # yahoo gives only daily historical data\n",
    "    connected = False\n",
    "    while not connected:\n",
    "        try:\n",
    "            ticker_df = web.get_data_yahoo(ticker, start=start_time, end=end_time)\n",
    "            connected = True\n",
    "            print('connected to yahoo')\n",
    "        except Exception as e:\n",
    "            print(\"type error: \" + str(e))\n",
    "            time.sleep( 5 )\n",
    "            pass   \n",
    "\n",
    "    # use numerical integer index instead of date    \n",
    "    ticker_df = ticker_df.reset_index()\n",
    "    print(ticker_df.head(5))\n",
    "    return ticker_df"
   ]
  },
  {
   "cell_type": "code",
   "execution_count": null,
   "metadata": {},
   "outputs": [],
   "source": [
    "#df = get_data(ticker)"
   ]
  },
  {
   "cell_type": "code",
   "execution_count": null,
   "metadata": {},
   "outputs": [],
   "source": [
    "#df.head()\n",
    "#df.tail()\n",
    "#df.shape"
   ]
  },
  {
   "cell_type": "code",
   "execution_count": null,
   "metadata": {},
   "outputs": [],
   "source": [
    "def compute_technical_indicators(df):\n",
    "    df['EMA10'] = ta.EMA(df['Adj Close'].values, timeperiod=10)\n",
    "    df['EMA20'] = ta.EMA(df['Adj Close'].values, timeperiod=10)\n",
    "    df['EMA30'] = ta.EMA(df['Adj Close'].values, timeperiod=30)\n",
    "    df['EMA40'] = ta.EMA(df['Adj Close'].values, timeperiod=40)\n",
    "    df['EMA50'] = ta.EMA(df['Adj Close'].values, timeperiod=50)\n",
    "    df['EMA100'] = ta.EMA(df['Adj Close'].values, timeperiod=100)\n",
    "    df['EMA150'] = ta.EMA(df['Adj Close'].values, timeperiod=150)\n",
    "    df['EMA200'] = ta.EMA(df['Adj Close'].values, timeperiod=200)\n",
    "\n",
    "    df['upperBB'], df['middleBB'], df['lowerBB'] = ta.BBANDS(df['Adj Close'].values, timeperiod=20, nbdevup=2, nbdevdn=2, matype=0)\n",
    "\n",
    "    df['SAR'] = ta.SAR(df['High'].values, df['Low'].values, acceleration=0.02, maximum=0.2)\n",
    "    \n",
    "    \n",
    "    \n",
    "    \n",
    "    df['ATR'] = ta.ATR(df['High'].values, df['Low'].values, df['Adj Close'].values, timeperiod=14)\n",
    "    df['ADX'] = ta.ADX(df['High'].values, df['Low'].values, df['Adj Close'].values, timeperiod=14)\n",
    "    df['RSI'] = ta.RSI(df['Adj Close'].values, timeperiod=14)\n",
    "\n",
    "    macd, macdsignal, macdhist = ta.MACD(df['Adj Close'].values, fastperiod=12, slowperiod=26, signalperiod=9)\n",
    "    df['MACD'] = macd\n",
    "    df['MACDsignal'] = macdsignal\n",
    "    df.tail()\n",
    "\n",
    "    return df"
   ]
  },
  {
   "cell_type": "code",
   "execution_count": null,
   "metadata": {},
   "outputs": [],
   "source": [
    "#df = compute_technical_indicators(df)"
   ]
  },
  {
   "cell_type": "code",
   "execution_count": null,
   "metadata": {},
   "outputs": [],
   "source": [
    "def compute_features(df):\n",
    "    # computes features for forest decisions\n",
    "    df['aboveEMA10'] = np.where(df['Adj Close'] > df['EMA10'], 1, -1)\n",
    "    df['aboveEMA20'] = np.where(df['Adj Close'] > df['EMA20'], 1, -1)\n",
    "    df['aboveEMA30'] = np.where(df['Adj Close'] > df['EMA30'], 1, -1)\n",
    "    df['aboveEMA40'] = np.where(df['Adj Close'] > df['EMA40'], 1, -1)\n",
    "\n",
    "\n",
    "    df['aboveEMA50'] = np.where(df['Adj Close'] > df['EMA50'], 1, -1)\n",
    "    df['aboveEMA100'] = np.where(df['Adj Close'] > df['EMA100'], 1, -1)\n",
    "    df['aboveEMA150'] = np.where(df['Adj Close'] > df['EMA150'], 1, -1)\n",
    "    df['aboveEMA200'] = np.where(df['Adj Close'] > df['EMA200'], 1, -1)\n",
    "\n",
    "    df['aboveUpperBB'] = np.where(df['Adj Close'] > df['upperBB'], 1, -1)\n",
    "    df['belowLowerBB'] = np.where(df['Adj Close'] < df['lowerBB'], 1, -1)\n",
    "    \n",
    "    df['aboveSAR'] = np.where(df['Adj Close'] > df['SAR'], 1, -1)\n",
    "   \n",
    "    df['oversoldRSI'] = np.where(df['RSI'] < 30, 1, -1)\n",
    "    df['overboughtRSI'] = np.where(df['RSI'] > 70, 1, -1)\n",
    "\n",
    "    df['ClgtEMA10'] = np.where(df['Adj Close'] > df['EMA10'], 1, -1)\n",
    "    df['EMA10gtEMA30'] = np.where(df['EMA10'] > df['EMA30'], 1, -1)\n",
    "    df['MACDSIGgtMACD'] = np.where(df['MACDsignal'] > df['MACD'], 1, -1)\n",
    "\n",
    "    # delete below line\n",
    "    df['Buy'] = np.where(df['Adj Close'] > df['EMA50'], 1, -1)\n",
    "\n",
    "    # very important - cleanup NaN values, otherwise prediction does not work\n",
    "    df=df.fillna(0).copy()\n",
    "    \n",
    "    df.tail()\n",
    "\n",
    "    return df"
   ]
  },
  {
   "cell_type": "code",
   "execution_count": null,
   "metadata": {},
   "outputs": [],
   "source": [
    "#df = compute_features(df)"
   ]
  },
  {
   "cell_type": "code",
   "execution_count": null,
   "metadata": {},
   "outputs": [],
   "source": [
    "def plot_train_data(df):\n",
    "    # plot price\n",
    "    plt.figure(figsize=(30,5))\n",
    "    plt.plot(df.index, df['Adj Close'])\n",
    "    #plt.title('Price chart (Adj Close) ' + str(ticker))\n",
    "    plt.show()\n",
    "    return None"
   ]
  },
  {
   "cell_type": "code",
   "execution_count": null,
   "metadata": {},
   "outputs": [],
   "source": [
    "#plot_train_data(df)"
   ]
  },
  {
   "cell_type": "markdown",
   "metadata": {},
   "source": [
    "## Target condition - criterion"
   ]
  },
  {
   "cell_type": "code",
   "execution_count": null,
   "metadata": {},
   "outputs": [],
   "source": [
    "def define_target_condition(df):\n",
    "    # my new target condition\n",
    "    #df['target_cls'] = np.where(df['Adj Close'].shift(-20) > df.EMA200.shift(-20), 1, 0)\n",
    "\n",
    "    # even newer my new target condition\n",
    "    #df['target_cls'] = np.where(df['Adj Close'].shift(-20) > df.EMA100.shift(-20), 1, 0)\n",
    "\n",
    "    # even even newer my new target condition\n",
    "    df['target_cls'] = np.where(df['Adj Close'].shift(-50) > df.EMA150.shift(-50), 1, 0)\n",
    "\n",
    "    # important\n",
    "    df=df.fillna(0).copy()\n",
    "    \n",
    "    df.tail()\n",
    "    \n",
    "    return df"
   ]
  },
  {
   "cell_type": "code",
   "execution_count": null,
   "metadata": {},
   "outputs": [],
   "source": [
    "#df=define_target_condition(df)"
   ]
  },
  {
   "cell_type": "code",
   "execution_count": null,
   "metadata": {},
   "outputs": [],
   "source": []
  },
  {
   "cell_type": "code",
   "execution_count": null,
   "metadata": {},
   "outputs": [],
   "source": []
  },
  {
   "cell_type": "code",
   "execution_count": null,
   "metadata": {},
   "outputs": [],
   "source": []
  },
  {
   "cell_type": "code",
   "execution_count": null,
   "metadata": {},
   "outputs": [],
   "source": []
  },
  {
   "cell_type": "markdown",
   "metadata": {},
   "source": [
    "#### Train-Test split\n",
    "#### Training part\n",
    "#### Actual training part - it is just one line actually\n",
    "\n",
    "#### partial fit should keep old weights and improve them with further training\n",
    "turns out decision trees have no partial_fit option -  have to be trained in one go\n",
    "but check random forests they look like they can learn in sequences\n",
    "\n",
    "\n",
    "actually\n",
    "You can set the 'warm_start' parameter to True in the model. This will ensure the retention of learning with previous learn using fit call.\n",
    "\n",
    "Same model learning incrementally two times (train_X[:1], train_X[1:2]) after setting ' warm_start '\n",
    "\n",
    "forest_model = RandomForestRegressor(warm_start=True)\n",
    "forest_model.fit(train_X[:1],train_y[:1])\n",
    "pred_y = forest_model.predict(val_X[:1])\n",
    "mae = mean_absolute_error(pred_y,val_y[:1])\n",
    "print(\"mae      :\",mae)\n",
    "print('pred_y :',pred_y)\n",
    "forest_model.fit(train_X[1:2],train_y[1:2])\n",
    "pred_y = forest_model.predict(val_X[1:2])\n",
    "mae = mean_absolute_error(pred_y,val_y[1:2])\n",
    "print(\"mae      :\",mae)\n",
    "print('pred_y :',pred_y)"
   ]
  },
  {
   "cell_type": "code",
   "execution_count": null,
   "metadata": {},
   "outputs": [],
   "source": [
    "def splitting_and_training(df):\n",
    "    # __predictors__\n",
    "    #predictors_list = ['RSI', 'ClgtEMA10', 'EMA10gtEMA30', 'MACDSIGgtMACD']\n",
    "    #predictors_list = ['oversoldRSI', 'overboughtRSI', 'aboveEMA50', 'aboveEMA100', 'aboveEMA150', 'aboveEMA200']\n",
    "    predictors_list = ['aboveSAR','aboveUpperBB','belowLowerBB','RSI','oversoldRSI', 'overboughtRSI', 'ClgtEMA10', 'EMA10gtEMA30', 'MACDSIGgtMACD','aboveEMA10','aboveEMA20','aboveEMA30','aboveEMA40','aboveEMA50', 'aboveEMA100', 'aboveEMA150', 'aboveEMA200']\n",
    "\n",
    "    #print(df[predictors_list])\n",
    "    \n",
    "    # __features__\n",
    "    X = df[predictors_list].fillna(0)\n",
    "    X.tail()\n",
    "\n",
    "    # __targets__\n",
    "    y_cls = df.target_cls.fillna(0)\n",
    "    y_cls.tail(10)\n",
    "\n",
    "    # __train test split__\n",
    "    from sklearn.model_selection import train_test_split\n",
    "    y=y_cls\n",
    "    X_cls_train, X_cls_test, y_cls_train, y_cls_test = train_test_split(X, y, test_size=0.3, random_state=432, stratify=y)\n",
    "\n",
    "    print (X_cls_train.shape, y_cls_train.shape)\n",
    "    print (X_cls_test.shape, y_cls_test.shape)\n",
    "\n",
    "    # __RANDOM FOREST __       - retrainable - warm_start\n",
    "    from sklearn.ensemble import RandomForestClassifier\n",
    "\n",
    "    #Create a Gaussian Classifier - incremental training - warm_start=True\n",
    "    clf=RandomForestClassifier(n_estimators=50, criterion='gini', max_depth=6, min_samples_leaf=6, warm_start=True)\n",
    "\n",
    "    # __ACTUAL TRAINING __\n",
    "    clf = clf.fit(X_cls_train, y_cls_train)\n",
    "    clf\n",
    "\n",
    "    # __making accuracy report__\n",
    "    # ideally should be getting better with each round\n",
    "    y_cls_pred = clf.predict(X_cls_test)\n",
    "\n",
    "    from sklearn.metrics import classification_report\n",
    "    report = classification_report(y_cls_test, y_cls_pred)\n",
    "    print(report)\n",
    "\n",
    "    return clf"
   ]
  },
  {
   "cell_type": "code",
   "execution_count": null,
   "metadata": {},
   "outputs": [],
   "source": [
    "# get trained classifier\n",
    "#clf = splitting_and_training(df)"
   ]
  },
  {
   "cell_type": "code",
   "execution_count": null,
   "metadata": {},
   "outputs": [],
   "source": []
  },
  {
   "cell_type": "code",
   "execution_count": null,
   "metadata": {},
   "outputs": [],
   "source": [
    "#plot_train_data(df)"
   ]
  },
  {
   "cell_type": "code",
   "execution_count": null,
   "metadata": {},
   "outputs": [],
   "source": [
    "#df"
   ]
  },
  {
   "cell_type": "code",
   "execution_count": null,
   "metadata": {},
   "outputs": [],
   "source": [
    "def predict_timeseries(df, clf):\n",
    "    # oversoldRSI \toversoldRSI \toverboughtRSI \taboveEMA50 \taboveEMA100 \taboveEMA150 \taboveEMA200\n",
    "\n",
    "    for i in range(len(df)):\n",
    "        #X_cls_valid = [[df['oversoldRSI'][i],df['overboughtRSI'][i],df['aboveEMA50'][i],df['aboveEMA100'][i],df['aboveEMA150'][i],df['aboveEMA200'][i]]]\n",
    "        #X_cls_valid = [[df['aboveEMA10'][i],df['aboveEMA20'][i],df['aboveEMA30'][i],df['aboveEMA40'][i],df['aboveEMA50'][i],df['aboveEMA100'][i],df['aboveEMA150'][i],df['aboveEMA200'][i]]]\n",
    "\n",
    "        X_cls_valid = [[df['aboveSAR'][i],df['aboveUpperBB'][i],df['belowLowerBB'][i],df['RSI'][i],df['oversoldRSI'][i],df['overboughtRSI'][i],df['ClgtEMA10'][i],df['EMA10gtEMA30'][i],df['MACDSIGgtMACD'][i],df['aboveEMA10'][i],df['aboveEMA20'][i],df['aboveEMA30'][i],df['aboveEMA40'][i],df['aboveEMA50'][i],df['aboveEMA100'][i],df['aboveEMA150'][i],df['aboveEMA200'][i]]]    \n",
    "\n",
    "        y_cls_pred_valid = clf.predict(X_cls_valid)\n",
    "        df['Buy'][i] = y_cls_pred_valid[0].copy()\n",
    "\n",
    "    return df"
   ]
  },
  {
   "cell_type": "code",
   "execution_count": null,
   "metadata": {},
   "outputs": [],
   "source": []
  },
  {
   "cell_type": "code",
   "execution_count": null,
   "metadata": {},
   "outputs": [],
   "source": []
  },
  {
   "cell_type": "code",
   "execution_count": null,
   "metadata": {},
   "outputs": [],
   "source": [
    "#df = predict_timeseries(df, clf)"
   ]
  },
  {
   "cell_type": "code",
   "execution_count": null,
   "metadata": {},
   "outputs": [],
   "source": []
  },
  {
   "cell_type": "code",
   "execution_count": null,
   "metadata": {},
   "outputs": [],
   "source": []
  },
  {
   "cell_type": "code",
   "execution_count": null,
   "metadata": {},
   "outputs": [],
   "source": []
  },
  {
   "cell_type": "code",
   "execution_count": null,
   "metadata": {},
   "outputs": [],
   "source": [
    "def plot_stock_prediction(df, ticker):\n",
    "    # plot  values and significant levels\n",
    "    plt.figure(figsize=(30,10))\n",
    "    plt.title('Predictive model ' + str(ticker))\n",
    "    plt.plot(df['Date'], df['Adj Close'], label='High', alpha=0.2)\n",
    "\n",
    "    plt.plot(df['Date'], df['EMA10'], label='High', alpha=0.2)\n",
    "    plt.plot(df['Date'], df['EMA20'], label='High', alpha=0.2)\n",
    "    plt.plot(df['Date'], df['EMA30'], label='High', alpha=0.2)\n",
    "    plt.plot(df['Date'], df['EMA40'], label='High', alpha=0.2)\n",
    "    plt.plot(df['Date'], df['EMA50'], label='High', alpha=0.2)\n",
    "    plt.plot(df['Date'], df['EMA100'], label='High', alpha=0.2)\n",
    "    plt.plot(df['Date'], df['EMA150'], label='High', alpha=0.99)\n",
    "    plt.plot(df['Date'], df['EMA200'], label='High', alpha=0.2)\n",
    "\n",
    "\n",
    "    plt.scatter(df['Date'], df['Buy']*df['Adj Close'], label='Buy', marker='^', color='magenta', alpha=0.15)\n",
    "    #lt.scatter(df.index, df['sell_sig'], label='Sell', marker='v')\n",
    "\n",
    "    plt.legend()\n",
    "\n",
    "    plt.show()\n",
    "\n",
    "    return None   "
   ]
  },
  {
   "cell_type": "markdown",
   "metadata": {},
   "source": [
    "# --- EXECUTION SEQUENCE ---"
   ]
  },
  {
   "cell_type": "code",
   "execution_count": null,
   "metadata": {},
   "outputs": [],
   "source": [
    "for ticker in ['SPY', 'F', 'IBM', 'GE', 'AAPL', 'T', 'ADM', 'XOM', 'GM','MMM','KO','PEP','SO','GS']:\n",
    "\n",
    "    df = get_data(ticker)\n",
    "    plot_train_data(df)\n",
    "    df = compute_technical_indicators(df)\n",
    "    df = compute_features(df)\n",
    "    df=define_target_condition(df)\n",
    "\n",
    "    clf = splitting_and_training(df)\n",
    "\n",
    "    df = predict_timeseries(df, clf)\n",
    "    plot_stock_prediction(df, ticker)"
   ]
  },
  {
   "cell_type": "code",
   "execution_count": null,
   "metadata": {},
   "outputs": [],
   "source": []
  },
  {
   "cell_type": "code",
   "execution_count": null,
   "metadata": {},
   "outputs": [],
   "source": []
  },
  {
   "cell_type": "code",
   "execution_count": null,
   "metadata": {},
   "outputs": [],
   "source": []
  },
  {
   "cell_type": "code",
   "execution_count": null,
   "metadata": {},
   "outputs": [],
   "source": []
  },
  {
   "cell_type": "code",
   "execution_count": null,
   "metadata": {},
   "outputs": [],
   "source": []
  },
  {
   "cell_type": "code",
   "execution_count": null,
   "metadata": {},
   "outputs": [],
   "source": []
  },
  {
   "cell_type": "code",
   "execution_count": null,
   "metadata": {},
   "outputs": [],
   "source": []
  },
  {
   "cell_type": "code",
   "execution_count": null,
   "metadata": {},
   "outputs": [],
   "source": []
  },
  {
   "cell_type": "code",
   "execution_count": null,
   "metadata": {},
   "outputs": [],
   "source": []
  },
  {
   "cell_type": "code",
   "execution_count": null,
   "metadata": {},
   "outputs": [],
   "source": []
  },
  {
   "cell_type": "markdown",
   "metadata": {},
   "source": [
    "# \n",
    "# --- LIVE PREDICTION ---\n",
    "# "
   ]
  },
  {
   "cell_type": "code",
   "execution_count": null,
   "metadata": {},
   "outputs": [],
   "source": [
    "ticker='BP'"
   ]
  },
  {
   "cell_type": "code",
   "execution_count": null,
   "metadata": {},
   "outputs": [],
   "source": [
    "new_df = get_data(ticker)"
   ]
  },
  {
   "cell_type": "code",
   "execution_count": null,
   "metadata": {},
   "outputs": [],
   "source": [
    "new_df = compute_technical_indicators(new_df)"
   ]
  },
  {
   "cell_type": "code",
   "execution_count": null,
   "metadata": {},
   "outputs": [],
   "source": [
    "new_df = compute_features(new_df)"
   ]
  },
  {
   "cell_type": "code",
   "execution_count": null,
   "metadata": {},
   "outputs": [],
   "source": [
    "new_df=define_target_condition(new_df)"
   ]
  },
  {
   "cell_type": "code",
   "execution_count": null,
   "metadata": {},
   "outputs": [],
   "source": []
  },
  {
   "cell_type": "code",
   "execution_count": null,
   "metadata": {},
   "outputs": [],
   "source": []
  },
  {
   "cell_type": "code",
   "execution_count": null,
   "metadata": {},
   "outputs": [],
   "source": [
    "new_df = predict_timeseries(new_df, clf)"
   ]
  },
  {
   "cell_type": "code",
   "execution_count": null,
   "metadata": {},
   "outputs": [],
   "source": [
    "plot_stock_prediction(new_df, ticker)"
   ]
  },
  {
   "cell_type": "code",
   "execution_count": null,
   "metadata": {},
   "outputs": [],
   "source": [
    "temp_df = new_df[-700:]"
   ]
  },
  {
   "cell_type": "code",
   "execution_count": null,
   "metadata": {},
   "outputs": [],
   "source": [
    "plot_stock_prediction(temp_df, ticker)"
   ]
  },
  {
   "cell_type": "code",
   "execution_count": null,
   "metadata": {},
   "outputs": [],
   "source": []
  }
 ],
 "metadata": {
  "kernelspec": {
   "display_name": "Python 3",
   "language": "python",
   "name": "python3"
  },
  "language_info": {
   "codemirror_mode": {
    "name": "ipython",
    "version": 3
   },
   "file_extension": ".py",
   "mimetype": "text/x-python",
   "name": "python",
   "nbconvert_exporter": "python",
   "pygments_lexer": "ipython3",
   "version": "3.5.6"
  }
 },
 "nbformat": 4,
 "nbformat_minor": 4
}
